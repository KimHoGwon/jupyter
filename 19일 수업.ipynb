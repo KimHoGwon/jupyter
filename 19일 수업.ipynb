{
 "cells": [
  {
   "cell_type": "code",
   "execution_count": 2,
   "id": "f14b7366-98f8-4a23-9099-8e4ac4aa363a",
   "metadata": {},
   "outputs": [
    {
     "name": "stdout",
     "output_type": "stream",
     "text": [
      "출력\n",
      "출력\n",
      "출력\n",
      "출력\n",
      "출력\n",
      "출력\n",
      "출력\n",
      "출력\n",
      "출력\n",
      "출력\n"
     ]
    }
   ],
   "source": [
    "for i in range(10):\n",
    "    print(\"출력\")"
   ]
  },
  {
   "cell_type": "code",
   "execution_count": 3,
   "id": "6972bae6-98bc-44aa-bb04-1cb850fb4fb7",
   "metadata": {},
   "outputs": [
    {
     "name": "stdout",
     "output_type": "stream",
     "text": [
      "273\n",
      "32\n",
      "103\n",
      "57\n",
      "52\n"
     ]
    }
   ],
   "source": [
    "array=[273,32,103,57,52]\n",
    "for element in array:\n",
    "    print(element)"
   ]
  },
  {
   "cell_type": "code",
   "execution_count": 9,
   "id": "955acca1-1aa9-4f37-9f28-f8aad6da4195",
   "metadata": {},
   "outputs": [
    {
     "data": {
      "text/plain": [
       "'히어로 무비'"
      ]
     },
     "execution_count": 9,
     "metadata": {},
     "output_type": "execute_result"
    }
   ],
   "source": [
    "dicta={\n",
    "    \"name\":\"어벤저스\",\n",
    "    \"type\":\"히어로 무비\"\n",
    "    }\n",
    "dicta[\"name\"]\n",
    "dicta[\"type\"]"
   ]
  },
  {
   "cell_type": "code",
   "execution_count": 12,
   "id": "954fee4b-90f6-45e5-9222-01b88a217944",
   "metadata": {},
   "outputs": [
    {
     "name": "stdout",
     "output_type": "stream",
     "text": [
      "my favorite\n",
      "토르\n"
     ]
    }
   ],
   "source": [
    "dictb={\"director\":[\"안소니 루소\",\"조 루소\"], \"cast\": [\"아이언맨\",\"타노스\",\"토르\",\"닥터스트레인지\",\"헐크\"]}\n",
    "dictb[\"director\"]\n",
    "dictb[\"director\"]=\"my favorite\"\n",
    "print(dictb[\"director\"])\n",
    "print(dictb[\"cast\"][2])"
   ]
  },
  {
   "cell_type": "code",
   "execution_count": 13,
   "id": "24cb70f8-2604-4e9b-9382-948a8c8bb3cf",
   "metadata": {},
   "outputs": [
    {
     "data": {
      "text/plain": [
       "{'이름': '7D 건조 망고', type: '당절임'}"
      ]
     },
     "execution_count": 13,
     "metadata": {},
     "output_type": "execute_result"
    }
   ],
   "source": [
    "name=\"이름\"\n",
    "dictkey={\n",
    "    name:\"7D 건조 망고\",\n",
    "    type:\"당절임\"\n",
    "}\n",
    "dictkey"
   ]
  },
  {
   "cell_type": "code",
   "execution_count": 16,
   "id": "cc63fc5e-7e05-41f4-82ff-2b4985cc5fc6",
   "metadata": {
    "scrolled": true
   },
   "outputs": [
    {
     "data": {
      "text/plain": [
       "'설탕'"
      ]
     },
     "execution_count": 16,
     "metadata": {},
     "output_type": "execute_result"
    }
   ],
   "source": [
    "dictionary={\n",
    "    \"name\":\"7D 건조 망고\",\n",
    "    \"type\":\"당절임\",\n",
    "    \"ingredient\":[\"망고\",\"설탕\",\"메타중아황산나트륨\",\"치자황색소\"],\n",
    "    \"origin\":\"필리핀\"\n",
    "}\n",
    "\n",
    "dictionary[\"ingredient\"]\n",
    "['망고', '설탕', '메타중아황산나트륨', '치자황색소']\n",
    "dictionary[\"ingredient\"][1]"
   ]
  },
  {
   "cell_type": "code",
   "execution_count": 19,
   "id": "0c60eb4c-2fea-47f1-94f1-62ce7505e0a6",
   "metadata": {},
   "outputs": [
    {
     "data": {
      "text/plain": [
       "{'name': '7D 건조 망고', 'type': '당절임', 'origin': '필리핀', 'price': 5000}"
      ]
     },
     "execution_count": 19,
     "metadata": {},
     "output_type": "execute_result"
    }
   ],
   "source": [
    "dictionary[\"price\"]=5000\n",
    "dictionary\n",
    "\n",
    "del dictionary[\"ingredient\"]\n",
    "dictionary"
   ]
  },
  {
   "cell_type": "code",
   "execution_count": 21,
   "id": "937fb849-344b-4bef-9172-0fe6ecce927d",
   "metadata": {},
   "outputs": [
    {
     "name": "stdout",
     "output_type": "stream",
     "text": [
      "요소 추가이전: {}\n",
      "요소 추가 이후: {'name': '새로운 이름', 'head': '새로운 정신', 'body': '새로운 몸'}\n"
     ]
    }
   ],
   "source": [
    "dictionary ={}\n",
    "print(\"요소 추가이전:\",dictionary)\n",
    "dictionary[\"name\"]=\"새로운 이름\"\n",
    "dictionary[\"head\"]=\"새로운 정신\"\n",
    "dictionary[\"body\"]=\"새로운 몸\"\n",
    "print(\"요소 추가 이후:\", dictionary)"
   ]
  },
  {
   "cell_type": "code",
   "execution_count": 22,
   "id": "68a240f2-9a49-4c62-bbb8-c6a2aa414e83",
   "metadata": {},
   "outputs": [
    {
     "ename": "KeyError",
     "evalue": "'key'",
     "output_type": "error",
     "traceback": [
      "\u001b[1;31m---------------------------------------------------------------------------\u001b[0m",
      "\u001b[1;31mKeyError\u001b[0m                                  Traceback (most recent call last)",
      "Cell \u001b[1;32mIn[22], line 2\u001b[0m\n\u001b[0;32m      1\u001b[0m dictionary\u001b[38;5;241m=\u001b[39m{}\n\u001b[1;32m----> 2\u001b[0m \u001b[43mdictionary\u001b[49m\u001b[43m[\u001b[49m\u001b[38;5;124;43m\"\u001b[39;49m\u001b[38;5;124;43mkey\u001b[39;49m\u001b[38;5;124;43m\"\u001b[39;49m\u001b[43m]\u001b[49m\n",
      "\u001b[1;31mKeyError\u001b[0m: 'key'"
     ]
    }
   ],
   "source": [
    "dictionary={}\n",
    "dictionary[\"key\"]"
   ]
  },
  {
   "cell_type": "code",
   "execution_count": 23,
   "id": "5a675425-d29a-464c-a36e-b4a7a085fd87",
   "metadata": {},
   "outputs": [
    {
     "ename": "KeyError",
     "evalue": "'key'",
     "output_type": "error",
     "traceback": [
      "\u001b[1;31m---------------------------------------------------------------------------\u001b[0m",
      "\u001b[1;31mKeyError\u001b[0m                                  Traceback (most recent call last)",
      "Cell \u001b[1;32mIn[23], line 2\u001b[0m\n\u001b[0;32m      1\u001b[0m dictionary\u001b[38;5;241m=\u001b[39m{}\n\u001b[1;32m----> 2\u001b[0m \u001b[38;5;28;01mdel\u001b[39;00m dictionary[\u001b[38;5;124m\"\u001b[39m\u001b[38;5;124mkey\u001b[39m\u001b[38;5;124m\"\u001b[39m]\n",
      "\u001b[1;31mKeyError\u001b[0m: 'key'"
     ]
    }
   ],
   "source": [
    "dictionary={}\n",
    "del dictionary[\"key\"]"
   ]
  },
  {
   "cell_type": "code",
   "execution_count": 26,
   "id": "6f2d2b76-04a0-4376-ad72-8f1613d1c8bf",
   "metadata": {},
   "outputs": [
    {
     "name": "stdin",
     "output_type": "stream",
     "text": [
      ">접근하고자 하는 키: asdf\n"
     ]
    },
    {
     "name": "stdout",
     "output_type": "stream",
     "text": [
      "존재하지 않는 키에 접근하고 있습니다.\n"
     ]
    }
   ],
   "source": [
    "dictionary={\n",
    "    \"name\":\"7D 건조 망고\",\n",
    "    \"type\":\"당절임\",\n",
    "    \"ingredient\":[\"망고\",\"설탕\",\"메타중아황산나트륨\",\"치자황색소\"],\n",
    "    \"origin\":\"필리핀\"\n",
    "}\n",
    "\n",
    "key = input(\">접근하고자 하는 키:\")\n",
    "if key in dictionary:\n",
    "    print(dictionary[key])\n",
    "else:\n",
    "    print(\"존재하지 않는 키에 접근하고 있습니다.\")"
   ]
  },
  {
   "cell_type": "code",
   "execution_count": 30,
   "id": "e2340f58-836c-4710-994c-30ccbb376354",
   "metadata": {},
   "outputs": [
    {
     "name": "stdout",
     "output_type": "stream",
     "text": [
      "값: None\n",
      "존재하지 않는 키에 접근했었습니다.\n"
     ]
    }
   ],
   "source": [
    "value = dictionary.get(\"존재하지 않는 키\")\n",
    "print(\"값:\",value)\n",
    "\n",
    "if value == None:\n",
    "    print(\"존재하지 않는 키에 접근했었습니다.\")"
   ]
  },
  {
   "cell_type": "code",
   "execution_count": 31,
   "id": "b10efee1-e246-4763-9fc2-e3ff4ae55209",
   "metadata": {},
   "outputs": [
    {
     "name": "stdout",
     "output_type": "stream",
     "text": [
      "name : 7D 건조 망고\n",
      "type : 당절임\n",
      "ingredient : ['망고', '설탕', '메타중아황산나트륨', '치자황색소']\n",
      "origin : 필리핀\n"
     ]
    }
   ],
   "source": [
    "for key in dictionary:\n",
    "    print(key,\":\",dictionary[key])"
   ]
  },
  {
   "cell_type": "code",
   "execution_count": 35,
   "id": "c4563316-2de1-464e-9d18-db839d56b13e",
   "metadata": {},
   "outputs": [
    {
     "data": {
      "text/plain": [
       "{'kkk': [100, 2, 3, 1000, 4, 5, 10000]}"
      ]
     },
     "execution_count": 35,
     "metadata": {},
     "output_type": "execute_result"
    }
   ],
   "source": [
    "dic={\"kkk\":[1,2,3,4,5]}\n",
    "dic[\"kkk\"][0]=100\n",
    "dic[\"kkk\"].insert(3,1000)\n",
    "dic[\"kkk\"].append(10000)\n",
    "dic"
   ]
  },
  {
   "cell_type": "code",
   "execution_count": 40,
   "id": "df883ed2-a740-43b9-8cb8-26263ea09318",
   "metadata": {},
   "outputs": [
    {
     "data": {
      "text/plain": [
       "[0, 1, 2, 3, 4, 5, 6, 7, 8, 9]"
      ]
     },
     "execution_count": 40,
     "metadata": {},
     "output_type": "execute_result"
    }
   ],
   "source": [
    "a=range(5)\n",
    "a\n",
    "list(range(10))"
   ]
  },
  {
   "cell_type": "code",
   "execution_count": 43,
   "id": "dcd2bf37-0171-4e4b-a379-ac6789c3d0b2",
   "metadata": {},
   "outputs": [
    {
     "data": {
      "text/plain": [
       "[5, 6, 7, 8, 9]"
      ]
     },
     "execution_count": 43,
     "metadata": {},
     "output_type": "execute_result"
    }
   ],
   "source": [
    "list(range(0,5))\n",
    "list(range(5,10))\n"
   ]
  },
  {
   "cell_type": "code",
   "execution_count": 45,
   "id": "6245f59c-b008-4415-a72b-afbd1aaa7953",
   "metadata": {},
   "outputs": [
    {
     "data": {
      "text/plain": [
       "[0, 3, 6, 9]"
      ]
     },
     "execution_count": 45,
     "metadata": {},
     "output_type": "execute_result"
    }
   ],
   "source": [
    "list(range(0,10,2))\n",
    "list(range(0,10,3))"
   ]
  },
  {
   "cell_type": "code",
   "execution_count": 48,
   "id": "adf59c76-2888-4c71-a1cd-d85af872f9ec",
   "metadata": {},
   "outputs": [
    {
     "ename": "TypeError",
     "evalue": "'float' object cannot be interpreted as an integer",
     "output_type": "error",
     "traceback": [
      "\u001b[1;31m---------------------------------------------------------------------------\u001b[0m",
      "\u001b[1;31mTypeError\u001b[0m                                 Traceback (most recent call last)",
      "Cell \u001b[1;32mIn[48], line 5\u001b[0m\n\u001b[0;32m      2\u001b[0m \u001b[38;5;28mlist\u001b[39m(a)\n\u001b[0;32m      4\u001b[0m n\u001b[38;5;241m=\u001b[39m\u001b[38;5;241m10\u001b[39m\n\u001b[1;32m----> 5\u001b[0m a\u001b[38;5;241m=\u001b[39m\u001b[38;5;28;43mrange\u001b[39;49m\u001b[43m(\u001b[49m\u001b[38;5;241;43m0\u001b[39;49m\u001b[43m,\u001b[49m\u001b[43mn\u001b[49m\u001b[38;5;241;43m/\u001b[39;49m\u001b[38;5;241;43m2\u001b[39;49m\u001b[43m)\u001b[49m\n",
      "\u001b[1;31mTypeError\u001b[0m: 'float' object cannot be interpreted as an integer"
     ]
    }
   ],
   "source": [
    "a=range(0,10+1)\n",
    "list(a)\n",
    "\n",
    "n=10\n",
    "a=range(0,n/2)\n"
   ]
  },
  {
   "cell_type": "code",
   "execution_count": 51,
   "id": "285a871f-32ed-4ddc-a45b-333a310634cf",
   "metadata": {},
   "outputs": [
    {
     "data": {
      "text/plain": [
       "[0, 1, 2, 3, 4]"
      ]
     },
     "execution_count": 51,
     "metadata": {},
     "output_type": "execute_result"
    }
   ],
   "source": [
    "a=range(0,int(n/2))\n",
    "list(a)\n",
    "\n",
    "a=range(0,n//2)\n",
    "list(a)"
   ]
  },
  {
   "cell_type": "code",
   "execution_count": 54,
   "id": "0789734b-5d10-4377-953d-8e37c3a2fb4c",
   "metadata": {},
   "outputs": [
    {
     "name": "stdout",
     "output_type": "stream",
     "text": [
      "0-반복 변수\n",
      "1-반복 변수\n",
      "2-반복 변수\n",
      "3-반복 변수\n",
      "4-반복 변수\n",
      "\n",
      "5=반복 변수\n",
      "6=반복 변수\n",
      "7=반복 변수\n",
      "8=반복 변수\n",
      "9=반복 변수\n",
      "\n",
      "0=반복 변수\n",
      "3=반복 변수\n",
      "6=반복 변수\n",
      "9=반복 변수\n",
      "\n"
     ]
    }
   ],
   "source": [
    "for i in range(5):\n",
    "    print(str(i)+\"-반복 변수\")\n",
    "print()\n",
    "\n",
    "for i in range(5,10):\n",
    "    print(str(i)+\"=반복 변수\")\n",
    "print()\n",
    "\n",
    "for i in range(0,10,3):\n",
    "    print(str(i)+\"=반복 변수\")\n",
    "print()"
   ]
  },
  {
   "cell_type": "code",
   "execution_count": 57,
   "id": "6d432ae7-a80b-4b64-9b7c-ea64e6882f79",
   "metadata": {},
   "outputs": [
    {
     "name": "stdout",
     "output_type": "stream",
     "text": [
      "0번째 반복: 273\n",
      "1번째 반복: 32\n",
      "2번째 반복: 103\n",
      "3번째 반복: 57\n",
      "4번째 반복: 52\n"
     ]
    }
   ],
   "source": [
    "array=[273,32,103,57,52]\n",
    "for i in range(len(array)):\n",
    "    print(\"{}번째 반복: {}\".format(i,array[i]))"
   ]
  },
  {
   "cell_type": "code",
   "execution_count": 58,
   "id": "2871fb6c-aab9-4c97-a6f1-90961ba6f3cd",
   "metadata": {},
   "outputs": [
    {
     "name": "stdout",
     "output_type": "stream",
     "text": [
      "현재반복변수:4\n",
      "현재반복변수:3\n",
      "현재반복변수:2\n",
      "현재반복변수:1\n",
      "현재반복변수:0\n"
     ]
    }
   ],
   "source": [
    "for i in range(4,0 -1,-1):\n",
    "    print(\"현재반복변수:{}\".format(i))"
   ]
  },
  {
   "cell_type": "code",
   "execution_count": 59,
   "id": "dad1f68a-a132-4cb3-994a-eff066ddabbb",
   "metadata": {},
   "outputs": [
    {
     "name": "stdout",
     "output_type": "stream",
     "text": [
      "현재 반복변수:4\n",
      "현재 반복변수:3\n",
      "현재 반복변수:2\n",
      "현재 반복변수:1\n",
      "현재 반복변수:0\n"
     ]
    }
   ],
   "source": [
    "for i in reversed(range(5)):\n",
    "    print(\"현재 반복변수:{}\".format(i))"
   ]
  },
  {
   "cell_type": "code",
   "execution_count": 60,
   "id": "0c0d5687-6fef-4bb1-ac37-89b05d18d770",
   "metadata": {},
   "outputs": [
    {
     "name": "stdout",
     "output_type": "stream",
     "text": [
      "0번째 반복.\n",
      "1번째 반복.\n",
      "2번째 반복.\n",
      "3번째 반복.\n",
      "4번째 반복.\n",
      "5번째 반복.\n",
      "6번째 반복.\n",
      "7번째 반복.\n",
      "8번째 반복.\n",
      "9번째 반복.\n"
     ]
    }
   ],
   "source": [
    "i=0\n",
    "while i < 10:\n",
    "    print(\"{}번째 반복.\".format(i))\n",
    "    i+=1"
   ]
  },
  {
   "cell_type": "code",
   "execution_count": 62,
   "id": "078e5c1f-d5c5-40f7-abb2-964875346f7a",
   "metadata": {},
   "outputs": [
    {
     "name": "stdout",
     "output_type": "stream",
     "text": [
      "[1, 1]\n"
     ]
    }
   ],
   "source": [
    "listtest=[1,2,1,2]\n",
    "value=2\n",
    "\n",
    "while value in listtest:\n",
    "    listtest.remove(value)\n",
    "print(listtest)"
   ]
  },
  {
   "cell_type": "code",
   "execution_count": 65,
   "id": "78dfc9c9-c472-4139-a1c3-90a5f2e68899",
   "metadata": {},
   "outputs": [
    {
     "name": "stdout",
     "output_type": "stream",
     "text": [
      "5초 동안31776754번 반복\n"
     ]
    }
   ],
   "source": [
    "import time\n",
    "number = 0\n",
    "target_tick=time.time()+5\n",
    "while time.time()<target_tick:\n",
    "    number += 1\n",
    "print(\"5초 동안{}번 반복\".format(number))"
   ]
  },
  {
   "cell_type": "code",
   "execution_count": 66,
   "id": "8fd136c2-9457-4522-b12c-81774919f379",
   "metadata": {},
   "outputs": [
    {
     "name": "stdout",
     "output_type": "stream",
     "text": [
      "10번째 반복문입니다.\n"
     ]
    },
    {
     "name": "stdin",
     "output_type": "stream",
     "text": [
      ">종료하시겠습니까?(y): n\n"
     ]
    },
    {
     "name": "stdout",
     "output_type": "stream",
     "text": [
      "11번째 반복문입니다.\n"
     ]
    },
    {
     "name": "stdin",
     "output_type": "stream",
     "text": [
      ">종료하시겠습니까?(y): n\n"
     ]
    },
    {
     "name": "stdout",
     "output_type": "stream",
     "text": [
      "12번째 반복문입니다.\n"
     ]
    },
    {
     "name": "stdin",
     "output_type": "stream",
     "text": [
      ">종료하시겠습니까?(y): n\n"
     ]
    },
    {
     "name": "stdout",
     "output_type": "stream",
     "text": [
      "13번째 반복문입니다.\n"
     ]
    },
    {
     "name": "stdin",
     "output_type": "stream",
     "text": [
      ">종료하시겠습니까?(y): n\n"
     ]
    },
    {
     "name": "stdout",
     "output_type": "stream",
     "text": [
      "14번째 반복문입니다.\n"
     ]
    },
    {
     "name": "stdin",
     "output_type": "stream",
     "text": [
      ">종료하시겠습니까?(y): n\n"
     ]
    },
    {
     "name": "stdout",
     "output_type": "stream",
     "text": [
      "15번째 반복문입니다.\n"
     ]
    },
    {
     "name": "stdin",
     "output_type": "stream",
     "text": [
      ">종료하시겠습니까?(y): n\n"
     ]
    },
    {
     "name": "stdout",
     "output_type": "stream",
     "text": [
      "16번째 반복문입니다.\n"
     ]
    },
    {
     "name": "stdin",
     "output_type": "stream",
     "text": [
      ">종료하시겠습니까?(y): y\n"
     ]
    },
    {
     "name": "stdout",
     "output_type": "stream",
     "text": [
      "반복을 종료합니다.\n"
     ]
    }
   ],
   "source": [
    "while True:\n",
    "    print(\"{}번째 반복문입니다.\".format(i))\n",
    "    i=i+1\n",
    "    input_text=input(\">종료하시겠습니까?(y):\")\n",
    "    if input_text in[\"y\",\"Y\"]:\n",
    "        print(\"반복을 종료합니다.\")\n",
    "        break"
   ]
  },
  {
   "cell_type": "code",
   "execution_count": 67,
   "id": "da3239be-0821-4926-9fa9-049ce7cf74a2",
   "metadata": {},
   "outputs": [
    {
     "name": "stdout",
     "output_type": "stream",
     "text": [
      "15\n",
      "20\n",
      "25\n"
     ]
    }
   ],
   "source": [
    "numbers=[5,15,6,20,7,25]\n",
    "for number in numbers:\n",
    "    if number<10:\n",
    "        continue\n",
    "    print(number)"
   ]
  },
  {
   "cell_type": "code",
   "execution_count": 70,
   "id": "409e5905-5ee3-4227-92db-bbd28648cb8e",
   "metadata": {},
   "outputs": [
    {
     "data": {
      "text/plain": [
       "537"
      ]
     },
     "execution_count": 70,
     "metadata": {},
     "output_type": "execute_result"
    }
   ],
   "source": [
    "number=[103,52,273,32,77]\n",
    "min(number)\n",
    "max(number)\n",
    "sum(number)"
   ]
  },
  {
   "cell_type": "code",
   "execution_count": 72,
   "id": "dc525bfb-3943-4c4d-8256-7133fc2f0fad",
   "metadata": {
    "scrolled": true
   },
   "outputs": [
    {
     "name": "stdout",
     "output_type": "stream",
     "text": [
      "# reversed()함수\n",
      "reversed([1,2,3,4,5]): <list_reverseiterator object at 0x00000273744ADC10>\n",
      "list(reversed([1,2,3,4,5])): [5, 4, 3, 2, 1]\n",
      "\n",
      "# reversed() 함수와 반복문\n",
      "for i in reversed([1,2,3,4,5]):\n",
      "- 5\n",
      "- 4\n",
      "- 3\n",
      "- 2\n",
      "- 1\n"
     ]
    }
   ],
   "source": [
    "lista=[1,2,3,4,5]\n",
    "list_reversed=reversed(lista)\n",
    "\n",
    "print(\"# reversed()함수\")\n",
    "print(\"reversed([1,2,3,4,5]):\",list_reversed)\n",
    "print(\"list(reversed([1,2,3,4,5])):\",list(list_reversed))\n",
    "print()\n",
    "\n",
    "print(\"# reversed() 함수와 반복문\")\n",
    "print(\"for i in reversed([1,2,3,4,5]):\")\n",
    "for i in reversed(lista):\n",
    "    print(\"-\",i)"
   ]
  },
  {
   "cell_type": "code",
   "execution_count": 74,
   "id": "b52053a8-6143-408b-9ae4-01f8aa8b78c9",
   "metadata": {},
   "outputs": [
    {
     "name": "stdout",
     "output_type": "stream",
     "text": [
      "1번 반복문:6\n",
      "1번 반복문:5\n",
      "1번 반복문:4\n",
      "1번 반복문:3\n",
      "1번 반복문:2\n",
      "1번 반복문:1\n"
     ]
    }
   ],
   "source": [
    "temp=reversed([1,2,3,4,5,6])\n",
    "for i in temp:\n",
    "    print(\"1번 반복문:{}\".format(i))\n",
    "temp=reversed([1,2,3,4,5,6])"
   ]
  },
  {
   "cell_type": "code",
   "execution_count": 78,
   "id": "e21621cc-d3c9-46b2-8396-07fa47574233",
   "metadata": {},
   "outputs": [
    {
     "name": "stdout",
     "output_type": "stream",
     "text": [
      "#단순출력\n",
      "['요소a', '요소b', '요소c']\n",
      "\n",
      "#enumberate()함수 적용 출력\n",
      "<enumerate object at 0x0000027374E4A080>\n",
      "\n",
      "#list()함수로 강제 변환 출력\n",
      "[(0, '요소a'), (1, '요소b'), (2, '요소c')]\n"
     ]
    }
   ],
   "source": [
    "examplelist=[\"요소a\",\"요소b\",\"요소c\"]\n",
    "print(\"#단순출력\")\n",
    "print(examplelist)\n",
    "print()\n",
    "\n",
    "print(\"#enumberate()함수 적용 출력\")\n",
    "print(enumerate(examplelist))\n",
    "print()\n",
    "\n",
    "print(\"#list()함수로 강제 변환 출력\")\n",
    "print(list(enumerate(examplelist)))"
   ]
  },
  {
   "cell_type": "code",
   "execution_count": 79,
   "id": "afc6474d-604b-49e0-bc5c-eed4f42f3ef0",
   "metadata": {},
   "outputs": [],
   "source": [
    "example_dictionary={\n",
    "    \"키a\":\"값a\",\n",
    "    \"키b\":\"값b\",\n",
    "    \"키c\":\"값c\",\n",
    "}"
   ]
  },
  {
   "cell_type": "code",
   "execution_count": 81,
   "id": "4ea81d54-b47c-4360-8ad7-d0a66f3c051d",
   "metadata": {},
   "outputs": [
    {
     "name": "stdout",
     "output_type": "stream",
     "text": [
      "#딕셔너리의 items()함수\n",
      "items(): dict_items([('키a', '값a'), ('키b', '값b'), ('키c', '값c')])\n",
      "\n"
     ]
    }
   ],
   "source": [
    "print(\"#딕셔너리의 items()함수\")\n",
    "print(\"items():\", example_dictionary.items())\n",
    "print()"
   ]
  },
  {
   "cell_type": "code",
   "execution_count": 82,
   "id": "baa9790f-a972-40d4-bfea-96c85709efae",
   "metadata": {},
   "outputs": [
    {
     "name": "stdout",
     "output_type": "stream",
     "text": [
      "# 딕셔너리의 items() 함수와 반복문 조합\n",
      "dictionary[키a] = 값a\n",
      "dictionary[키b] = 값b\n",
      "dictionary[키c] = 값c\n"
     ]
    }
   ],
   "source": [
    "print(\"# 딕셔너리의 items() 함수와 반복문 조합\")\n",
    "for key, element in example_dictionary.items():\n",
    "    print(\"dictionary[{}] = {}\".format(key, element))"
   ]
  },
  {
   "cell_type": "code",
   "execution_count": 83,
   "id": "ec5a574b-bcc3-49e8-aa0e-86c3716517fb",
   "metadata": {},
   "outputs": [
    {
     "name": "stdout",
     "output_type": "stream",
     "text": [
      "[0, 4, 16, 36, 64, 100, 144, 196, 256, 324]\n"
     ]
    }
   ],
   "source": [
    "array =[]\n",
    "for i in range(0,20,2):\n",
    "    array.append(i*i)\n",
    "print(array)"
   ]
  },
  {
   "cell_type": "code",
   "execution_count": 84,
   "id": "6c57ec82-e30d-4325-bde5-4753f9fb0333",
   "metadata": {},
   "outputs": [
    {
     "name": "stdout",
     "output_type": "stream",
     "text": [
      "[0, 4, 16, 36, 64, 100, 144, 196, 256, 324]\n"
     ]
    }
   ],
   "source": [
    "array=[i*i for i in range(0,20,2)]\n",
    "print(array)"
   ]
  },
  {
   "cell_type": "code",
   "execution_count": 85,
   "id": "13f9d4f3-fb99-42b7-8683-862126596bd6",
   "metadata": {},
   "outputs": [
    {
     "name": "stdout",
     "output_type": "stream",
     "text": [
      "['사과', '자두', '바나나', '체리']\n"
     ]
    }
   ],
   "source": [
    "array=[\"사과\",\"자두\",\"초콜릿\",\"바나나\",\"체리\"]\n",
    "output=[fruit for fruit in array if fruit !=\"초콜릿\"]\n",
    "print(output)"
   ]
  },
  {
   "cell_type": "code",
   "execution_count": 86,
   "id": "f35993df-d0e8-4e38-b829-c00f44d9db1d",
   "metadata": {},
   "outputs": [
    {
     "name": "stdout",
     "output_type": "stream",
     "text": [
      "['사과', '자두', '바나나', '체리']\n"
     ]
    }
   ],
   "source": [
    "output=[]\n",
    "for fruit in array:\n",
    "    if fruit !=\"초콜릿\":\n",
    "        output.append(fruit)\n",
    "print(output)"
   ]
  },
  {
   "cell_type": "code",
   "execution_count": 90,
   "id": "786d8368-7d9a-4691-aea9-7f1eb03fb42f",
   "metadata": {},
   "outputs": [
    {
     "ename": "SyntaxError",
     "evalue": "invalid syntax (2116419656.py, line 1)",
     "output_type": "error",
     "traceback": [
      "\u001b[1;36m  Cell \u001b[1;32mIn[90], line 1\u001b[1;36m\u001b[0m\n\u001b[1;33m    target_list=[r for r in range(0,10), r%2 == 0]\u001b[0m\n\u001b[1;37m                                       ^\u001b[0m\n\u001b[1;31mSyntaxError\u001b[0m\u001b[1;31m:\u001b[0m invalid syntax\n"
     ]
    }
   ],
   "source": [
    "target_list=[r for r in range(0,10) r%2 == 0]\n",
    "print(target_list)"
   ]
  },
  {
   "cell_type": "code",
   "execution_count": 91,
   "id": "f9579c36-46a0-4a62-885a-8fc204f0b84a",
   "metadata": {},
   "outputs": [
    {
     "name": "stdout",
     "output_type": "stream",
     "text": [
      "안녕\n",
      "안녕\n",
      "안녕\n"
     ]
    }
   ],
   "source": [
    "def print_3_times():\n",
    "    print(\"안녕\")\n",
    "    print(\"안녕\")\n",
    "    print(\"안녕\")\n",
    "print_3_times()"
   ]
  },
  {
   "cell_type": "code",
   "execution_count": 92,
   "id": "c508c331-d3dc-4740-b02a-bdfa4d871feb",
   "metadata": {},
   "outputs": [
    {
     "name": "stdout",
     "output_type": "stream",
     "text": [
      "안녕\n",
      "안녕\n",
      "안녕\n",
      "안녕\n",
      "안녕\n"
     ]
    }
   ],
   "source": [
    "def print_n_times(value, n):\n",
    "    for i in range(n):\n",
    "        print(value)\n",
    "\n",
    "print_n_times(\"안녕\",5)"
   ]
  },
  {
   "cell_type": "code",
   "execution_count": 95,
   "id": "c8f41162-de24-4a36-96e8-e1ebccecae83",
   "metadata": {},
   "outputs": [
    {
     "name": "stdout",
     "output_type": "stream",
     "text": [
      "안녕하세요\n",
      "안녕하세요\n",
      "안녕하세요\n",
      "안녕하세요\n",
      "안녕하세요\n"
     ]
    }
   ],
   "source": [
    "def print_n_times(value, n):\n",
    "    for i in range(n):\n",
    "        print(value)\n",
    "print_n_times(\"안녕하세요\",5)"
   ]
  },
  {
   "cell_type": "code",
   "execution_count": 96,
   "id": "ccbb0ad2-fe8d-471d-8f8e-4f8fe83c3488",
   "metadata": {},
   "outputs": [
    {
     "name": "stdout",
     "output_type": "stream",
     "text": [
      "안녕하세요\n",
      "안녕하세요\n"
     ]
    }
   ],
   "source": [
    "def print_n_times(value, n=2):\n",
    "    for i in range(n):\n",
    "        print(value)\n",
    "print_n_times(\"안녕하세요\")"
   ]
  },
  {
   "cell_type": "code",
   "execution_count": 99,
   "id": "693b7a98-a324-4e65-9a73-6760f13e420c",
   "metadata": {},
   "outputs": [
    {
     "name": "stdout",
     "output_type": "stream",
     "text": [
      "안녕하세요\n",
      "즐거운\n",
      "파이썬\n",
      "3\n",
      "안녕하세요\n",
      "즐거운\n",
      "파이썬\n",
      "3\n",
      "\n"
     ]
    }
   ],
   "source": [
    "def print_n_times(*values, n=2):\n",
    "    for i in range(n):\n",
    "        for value in values:\n",
    "            print(value)\n",
    "    print()\n",
    "print_n_times(\"안녕하세요\",\"즐거운\",\"파이썬\",3)"
   ]
  },
  {
   "cell_type": "code",
   "execution_count": 100,
   "id": "5512ba83-e93d-4d22-9a71-be2203561e2f",
   "metadata": {},
   "outputs": [
    {
     "name": "stdout",
     "output_type": "stream",
     "text": [
      "60\n",
      "310\n",
      "310\n",
      "220\n"
     ]
    }
   ],
   "source": [
    "def test(a, b=10, c=100):\n",
    "    print(a+b+c)\n",
    "\n",
    "test(10,20,30)\n",
    "test(a=10, b=100,c=200)\n",
    "test(c=10, a=100, b=200)\n",
    "test(10,c=200)"
   ]
  },
  {
   "cell_type": "code",
   "execution_count": 101,
   "id": "38e56b1d-98d6-408f-920e-c34cadb950b7",
   "metadata": {},
   "outputs": [
    {
     "name": "stdout",
     "output_type": "stream",
     "text": [
      "0 to 100: 5050\n",
      "0 to 100: 500500\n",
      "50 to 100: 3825\n",
      "500 to 1000: 375750\n"
     ]
    }
   ],
   "source": [
    "def sum_all(start,end):\n",
    "    output=0\n",
    "    for i in range(start, end+1):\n",
    "        output += i\n",
    "    return output\n",
    "print(\"0 to 100:\",sum_all(0,100))\n",
    "print(\"0 to 100:\",sum_all(0,1000))\n",
    "print(\"50 to 100:\",sum_all(50,100))\n",
    "print(\"500 to 1000:\",sum_all(500,1000))"
   ]
  },
  {
   "cell_type": "code",
   "execution_count": 106,
   "id": "b0979a17-b3e1-46a0-b642-97f90cc06581",
   "metadata": {},
   "outputs": [
    {
     "ename": "SyntaxError",
     "evalue": "positional argument follows keyword argument (2905891701.py, line 3)",
     "output_type": "error",
     "traceback": [
      "\u001b[1;36m  Cell \u001b[1;32mIn[106], line 3\u001b[1;36m\u001b[0m\n\u001b[1;33m    for i in range(start,end=1,step):\u001b[0m\n\u001b[1;37m                                   ^\u001b[0m\n\u001b[1;31mSyntaxError\u001b[0m\u001b[1;31m:\u001b[0m positional argument follows keyword argument\n"
     ]
    }
   ],
   "source": [
    "def sum_all(start=0, end=100, step=1):\n",
    "    output=0\n",
    "    for i in range(start,end=1,step):\n",
    "        output+=i\n",
    "    return output\n",
    "\n",
    "print(\"A\", sum_all(0,100,10))"
   ]
  },
  {
   "cell_type": "code",
   "execution_count": 107,
   "id": "c3828927-d6bb-41bf-9f64-bdc74da812e5",
   "metadata": {},
   "outputs": [
    {
     "ename": "ModuleNotFoundError",
     "evalue": "No module named 'numpy'",
     "output_type": "error",
     "traceback": [
      "\u001b[1;31m---------------------------------------------------------------------------\u001b[0m",
      "\u001b[1;31mModuleNotFoundError\u001b[0m                       Traceback (most recent call last)",
      "Cell \u001b[1;32mIn[107], line 1\u001b[0m\n\u001b[1;32m----> 1\u001b[0m \u001b[38;5;28;01mimport\u001b[39;00m \u001b[38;5;21;01mnumpy\u001b[39;00m \u001b[38;5;28;01mas\u001b[39;00m \u001b[38;5;21;01mnp\u001b[39;00m\n\u001b[0;32m      2\u001b[0m test_array \u001b[38;5;241m=\u001b[39m np\u001b[38;5;241m.\u001b[39marray([\u001b[38;5;241m1\u001b[39m,\u001b[38;5;241m4\u001b[39m,\u001b[38;5;241m5\u001b[39m,\u001b[38;5;241m6\u001b[39m],\u001b[38;5;28mfloat\u001b[39m)\n\u001b[0;32m      3\u001b[0m test_array\n",
      "\u001b[1;31mModuleNotFoundError\u001b[0m: No module named 'numpy'"
     ]
    }
   ],
   "source": [
    "import numpy as np\n",
    "test_array = np.array([1,4,5,6],float)\n",
    "test_array"
   ]
  }
 ],
 "metadata": {
  "kernelspec": {
   "display_name": "Python 3 (ipykernel)",
   "language": "python",
   "name": "python3"
  },
  "language_info": {
   "codemirror_mode": {
    "name": "ipython",
    "version": 3
   },
   "file_extension": ".py",
   "mimetype": "text/x-python",
   "name": "python",
   "nbconvert_exporter": "python",
   "pygments_lexer": "ipython3",
   "version": "3.9.18"
  }
 },
 "nbformat": 4,
 "nbformat_minor": 5
}
