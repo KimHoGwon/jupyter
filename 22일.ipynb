{
 "cells": [
  {
   "cell_type": "code",
   "execution_count": 2,
   "id": "ddd0fbf2-a2d4-4f40-99a7-935a8907fbf2",
   "metadata": {},
   "outputs": [
    {
     "data": {
      "text/plain": [
       "array([[ 3,  4,  5],\n",
       "       [ 8,  9, 10]])"
      ]
     },
     "execution_count": 2,
     "metadata": {},
     "output_type": "execute_result"
    }
   ],
   "source": [
    "import numpy as np\n",
    "x=np.array([[1,2,3,4,5],[6,7,8,9,10]],int)\n",
    "x[:,2:]"
   ]
  },
  {
   "cell_type": "code",
   "execution_count": 6,
   "id": "cad2f9b7-e889-40c7-a5b0-125cf50bcbea",
   "metadata": {
    "scrolled": true
   },
   "outputs": [
    {
     "data": {
      "text/plain": [
       "array([7, 8])"
      ]
     },
     "execution_count": 6,
     "metadata": {},
     "output_type": "execute_result"
    }
   ],
   "source": [
    "x[1,1:3]"
   ]
  },
  {
   "cell_type": "code",
   "execution_count": 7,
   "id": "8df03d62-8901-4725-a593-204f9dd33ff1",
   "metadata": {},
   "outputs": [
    {
     "data": {
      "text/plain": [
       "array([[ 6,  7,  8,  9, 10]])"
      ]
     },
     "execution_count": 7,
     "metadata": {},
     "output_type": "execute_result"
    }
   ],
   "source": [
    "x[1:3]"
   ]
  },
  {
   "cell_type": "code",
   "execution_count": 14,
   "id": "9f895624-eb82-4d5c-a5c6-1c9dd58d2a3b",
   "metadata": {},
   "outputs": [
    {
     "data": {
      "text/plain": [
       "array([[ 0,  1,  2,  3,  4],\n",
       "       [ 5,  6,  7,  8,  9],\n",
       "       [10, 11, 12, 13, 14]])"
      ]
     },
     "execution_count": 14,
     "metadata": {},
     "output_type": "execute_result"
    }
   ],
   "source": [
    "x=np.array(range(15),int).reshape(3,-1)\n",
    "x"
   ]
  },
  {
   "cell_type": "code",
   "execution_count": 16,
   "id": "6260bad8-00b8-4eb3-9052-a0d73a213228",
   "metadata": {},
   "outputs": [
    {
     "data": {
      "text/plain": [
       "array([[ 0,  2,  4],\n",
       "       [ 5,  7,  9],\n",
       "       [10, 12, 14]])"
      ]
     },
     "execution_count": 16,
     "metadata": {},
     "output_type": "execute_result"
    }
   ],
   "source": [
    "x[:,::2]"
   ]
  },
  {
   "cell_type": "code",
   "execution_count": 31,
   "id": "7029b56c-a108-4f48-9aa4-5071edfbe08b",
   "metadata": {},
   "outputs": [
    {
     "data": {
      "text/plain": [
       "array([[ 0,  3],\n",
       "       [10, 13]])"
      ]
     },
     "execution_count": 31,
     "metadata": {},
     "output_type": "execute_result"
    }
   ],
   "source": [
    "x[::2,::3]"
   ]
  },
  {
   "cell_type": "code",
   "execution_count": 65,
   "id": "cc03dd21-1393-4cf0-921c-64d982905e3b",
   "metadata": {},
   "outputs": [
    {
     "name": "stdout",
     "output_type": "stream",
     "text": [
      "<module 'numpy' from 'D:\\\\build\\\\miniconda\\\\envs\\\\mire001\\\\lib\\\\site-packages\\\\numpy\\\\__init__.py'>\n"
     ]
    }
   ],
   "source": [
    "print(np)"
   ]
  },
  {
   "cell_type": "code",
   "execution_count": 3,
   "id": "48af2dcf-2a32-49c0-87f3-36923b519123",
   "metadata": {},
   "outputs": [
    {
     "data": {
      "text/plain": [
       "array([0, 1, 2, 3, 4, 5, 6, 7, 8, 9])"
      ]
     },
     "execution_count": 3,
     "metadata": {},
     "output_type": "execute_result"
    }
   ],
   "source": [
    "np.arange(10)"
   ]
  },
  {
   "cell_type": "code",
   "execution_count": 5,
   "id": "46ea791c-d862-44af-9613-8740f66d50c2",
   "metadata": {},
   "outputs": [
    {
     "data": {
      "text/plain": [
       "array([-5, -4, -3, -2, -1,  0,  1,  2,  3,  4])"
      ]
     },
     "execution_count": 5,
     "metadata": {},
     "output_type": "execute_result"
    }
   ],
   "source": [
    "np.arange(-5, 5)"
   ]
  },
  {
   "cell_type": "code",
   "execution_count": 4,
   "id": "9e04f802-7945-4b2e-b4cb-849e271d1d66",
   "metadata": {},
   "outputs": [
    {
     "data": {
      "text/plain": [
       "array([0. , 0.5, 1. , 1.5, 2. , 2.5, 3. , 3.5, 4. , 4.5])"
      ]
     },
     "execution_count": 4,
     "metadata": {},
     "output_type": "execute_result"
    }
   ],
   "source": [
    "np.arange(0, 5, 0.5)"
   ]
  },
  {
   "cell_type": "code",
   "execution_count": 41,
   "id": "32340142-c8e5-49f6-97f2-6ad9ba472ff3",
   "metadata": {},
   "outputs": [
    {
     "data": {
      "text/plain": [
       "array([[1, 1],\n",
       "       [1, 1],\n",
       "       [1, 1],\n",
       "       [1, 1],\n",
       "       [1, 1]], dtype=int8)"
      ]
     },
     "execution_count": 41,
     "metadata": {},
     "output_type": "execute_result"
    }
   ],
   "source": [
    "np.ones(shape=(5,2), dtype=np.int8)"
   ]
  },
  {
   "cell_type": "code",
   "execution_count": 43,
   "id": "dec7f273-cd2b-4282-a5bf-d2ea5575b476",
   "metadata": {},
   "outputs": [
    {
     "data": {
      "text/plain": [
       "array([[0., 0.],\n",
       "       [0., 0.]], dtype=float32)"
      ]
     },
     "execution_count": 43,
     "metadata": {},
     "output_type": "execute_result"
    }
   ],
   "source": [
    "np.zeros(shape=(2,2), dtype=np.float32)"
   ]
  },
  {
   "cell_type": "code",
   "execution_count": 44,
   "id": "c8c12d4d-32e6-4d2b-bfaa-0215628d4756",
   "metadata": {},
   "outputs": [
    {
     "data": {
      "text/plain": [
       "array([[-8.5893004e-38,  5.7453237e-43,  0.0000000e+00,  7.8061461e-39],\n",
       "       [ 1.3620621e-42,  0.0000000e+00,  1.0761972e-42,  5.7453237e-43]],\n",
       "      dtype=float32)"
      ]
     },
     "execution_count": 44,
     "metadata": {},
     "output_type": "execute_result"
    }
   ],
   "source": [
    "np.empty(shape=(2,4), dtype=np.float32)"
   ]
  },
  {
   "cell_type": "code",
   "execution_count": 6,
   "id": "05b00545-36bf-4758-bdb0-8024a3c8ea68",
   "metadata": {},
   "outputs": [
    {
     "data": {
      "text/plain": [
       "array([[ 0,  1,  2,  3],\n",
       "       [ 4,  5,  6,  7],\n",
       "       [ 8,  9, 10, 11]])"
      ]
     },
     "execution_count": 6,
     "metadata": {},
     "output_type": "execute_result"
    }
   ],
   "source": [
    "x=np.arange(12).reshape(3,4)\n",
    "x"
   ]
  },
  {
   "cell_type": "code",
   "execution_count": 59,
   "id": "80a44722-a10a-4fef-81ea-6f06d27032e4",
   "metadata": {},
   "outputs": [
    {
     "data": {
      "text/plain": [
       "array([[1, 1, 1, 1, 1],\n",
       "       [1, 1, 1, 1, 1],\n",
       "       [1, 1, 1, 1, 1]])"
      ]
     },
     "execution_count": 59,
     "metadata": {},
     "output_type": "execute_result"
    }
   ],
   "source": [
    "np.ones_like(x)"
   ]
  },
  {
   "cell_type": "code",
   "execution_count": 60,
   "id": "3acd62c2-f5c2-432a-a05b-b6dbe61a5805",
   "metadata": {},
   "outputs": [
    {
     "data": {
      "text/plain": [
       "array([[0, 0, 0, 0, 0],\n",
       "       [0, 0, 0, 0, 0],\n",
       "       [0, 0, 0, 0, 0]])"
      ]
     },
     "execution_count": 60,
     "metadata": {},
     "output_type": "execute_result"
    }
   ],
   "source": [
    "np.zeros_like(x)"
   ]
  },
  {
   "cell_type": "code",
   "execution_count": 7,
   "id": "14018efa-2b6e-4eab-8c33-cad69b75dafc",
   "metadata": {},
   "outputs": [
    {
     "data": {
      "text/plain": [
       "array([[1, 0, 0],\n",
       "       [0, 1, 0],\n",
       "       [0, 0, 1]])"
      ]
     },
     "execution_count": 7,
     "metadata": {},
     "output_type": "execute_result"
    }
   ],
   "source": [
    "np.identity(n=3, dtype=int)"
   ]
  },
  {
   "cell_type": "code",
   "execution_count": 8,
   "id": "5b36c5cf-48f0-4b27-b634-206862b6494d",
   "metadata": {},
   "outputs": [
    {
     "data": {
      "text/plain": [
       "array([[1, 0, 0, 0],\n",
       "       [0, 1, 0, 0],\n",
       "       [0, 0, 1, 0],\n",
       "       [0, 0, 0, 1]])"
      ]
     },
     "execution_count": 8,
     "metadata": {},
     "output_type": "execute_result"
    }
   ],
   "source": [
    "np.identity(n=4, dtype=int)"
   ]
  },
  {
   "cell_type": "code",
   "execution_count": 13,
   "id": "12bc0778-2903-4540-b535-6cb184536a36",
   "metadata": {},
   "outputs": [
    {
     "data": {
      "text/plain": [
       "array([[0., 0., 1., 0., 0.],\n",
       "       [0., 0., 0., 1., 0.],\n",
       "       [0., 0., 0., 0., 1.]])"
      ]
     },
     "execution_count": 13,
     "metadata": {},
     "output_type": "execute_result"
    }
   ],
   "source": [
    "np.eye(N=3,M=5,k=2)"
   ]
  },
  {
   "cell_type": "code",
   "execution_count": 15,
   "id": "bfae7e0f-7338-4ad1-8b84-fb47bfb0962e",
   "metadata": {},
   "outputs": [
    {
     "data": {
      "text/plain": [
       "array([[0, 1, 2],\n",
       "       [3, 4, 5],\n",
       "       [6, 7, 8]])"
      ]
     },
     "execution_count": 15,
     "metadata": {},
     "output_type": "execute_result"
    }
   ],
   "source": [
    "matrix=np.arange(9).reshape(3,3)\n",
    "matrix"
   ]
  },
  {
   "cell_type": "code",
   "execution_count": 16,
   "id": "6f51a674-79f1-429e-8eda-bce7ed48101c",
   "metadata": {},
   "outputs": [
    {
     "data": {
      "text/plain": [
       "array([0, 4, 8])"
      ]
     },
     "execution_count": 16,
     "metadata": {},
     "output_type": "execute_result"
    }
   ],
   "source": [
    "np.diag(matrix)"
   ]
  },
  {
   "cell_type": "code",
   "execution_count": 18,
   "id": "c669742e-5693-4948-9517-b8774973f4ca",
   "metadata": {},
   "outputs": [
    {
     "data": {
      "text/plain": [
       "array([3, 7])"
      ]
     },
     "execution_count": 18,
     "metadata": {},
     "output_type": "execute_result"
    }
   ],
   "source": [
    "np.diag(matrix,k=-1)"
   ]
  },
  {
   "cell_type": "code",
   "execution_count": 19,
   "id": "d05b7edf-2970-4340-bf94-fa1a3e76a688",
   "metadata": {},
   "outputs": [
    {
     "data": {
      "text/plain": [
       "array([3.87315745, 0.0520101 , 2.98110751, 1.11346241, 3.67592158,\n",
       "       4.10812272, 1.17677349, 0.71993099, 1.48663992, 1.65061085])"
      ]
     },
     "execution_count": 19,
     "metadata": {},
     "output_type": "execute_result"
    }
   ],
   "source": [
    "np.random.uniform(0,5,10)"
   ]
  },
  {
   "cell_type": "code",
   "execution_count": 20,
   "id": "43016095-df39-4c73-81a6-5d3dec6f33a7",
   "metadata": {},
   "outputs": [
    {
     "data": {
      "text/plain": [
       "array([ 2.20529312, -1.7108365 ,  2.16945177, -1.25188768,  1.42756842,\n",
       "       -0.01125208,  2.16280262, -1.24861562, -2.48242735,  1.33314629])"
      ]
     },
     "execution_count": 20,
     "metadata": {},
     "output_type": "execute_result"
    }
   ],
   "source": [
    "np.random.normal(0,2,10)"
   ]
  },
  {
   "cell_type": "code",
   "execution_count": 21,
   "id": "b579121d-1169-4fd4-8c5a-46e99d3ca1f1",
   "metadata": {},
   "outputs": [
    {
     "data": {
      "text/plain": [
       "array([[ 1,  2,  3,  4],\n",
       "       [ 5,  6,  7,  8],\n",
       "       [ 9, 10, 11, 12]])"
      ]
     },
     "execution_count": 21,
     "metadata": {},
     "output_type": "execute_result"
    }
   ],
   "source": [
    "test_array = np.arange(1,13).reshape(3,4)\n",
    "test_array"
   ]
  },
  {
   "cell_type": "code",
   "execution_count": 22,
   "id": "8fcfceb1-effb-4bb6-9397-743553eeaf67",
   "metadata": {},
   "outputs": [
    {
     "data": {
      "text/plain": [
       "array([15, 18, 21, 24])"
      ]
     },
     "execution_count": 22,
     "metadata": {},
     "output_type": "execute_result"
    }
   ],
   "source": [
    "test_array.sum(axis=0)"
   ]
  },
  {
   "cell_type": "code",
   "execution_count": 23,
   "id": "9abbce32-2194-4a89-a1fe-c26d763d9066",
   "metadata": {},
   "outputs": [
    {
     "data": {
      "text/plain": [
       "array([10, 26, 42])"
      ]
     },
     "execution_count": 23,
     "metadata": {},
     "output_type": "execute_result"
    }
   ],
   "source": [
    "test_array.sum(axis=1)"
   ]
  },
  {
   "cell_type": "code",
   "execution_count": 24,
   "id": "7f934790-22bd-4678-991f-913f54c050cd",
   "metadata": {},
   "outputs": [
    {
     "data": {
      "text/plain": [
       "array([[[ 1,  2,  3,  4],\n",
       "        [ 5,  6,  7,  8],\n",
       "        [ 9, 10, 11, 12]],\n",
       "\n",
       "       [[ 1,  2,  3,  4],\n",
       "        [ 5,  6,  7,  8],\n",
       "        [ 9, 10, 11, 12]],\n",
       "\n",
       "       [[ 1,  2,  3,  4],\n",
       "        [ 5,  6,  7,  8],\n",
       "        [ 9, 10, 11, 12]]])"
      ]
     },
     "execution_count": 24,
     "metadata": {},
     "output_type": "execute_result"
    }
   ],
   "source": [
    "test_array = np.arange(1,13).reshape(3,4)\n",
    "third_order_tensor = np.array([test_array,test_array,test_array])\n",
    "third_order_tensor"
   ]
  },
  {
   "cell_type": "code",
   "execution_count": 25,
   "id": "ea21aca1-b505-4b14-ae4c-c9a97e9536eb",
   "metadata": {},
   "outputs": [
    {
     "data": {
      "text/plain": [
       "array([[ 3,  6,  9, 12],\n",
       "       [15, 18, 21, 24],\n",
       "       [27, 30, 33, 36]])"
      ]
     },
     "execution_count": 25,
     "metadata": {},
     "output_type": "execute_result"
    }
   ],
   "source": [
    "third_order_tensor.sum(axis=0)"
   ]
  },
  {
   "cell_type": "code",
   "execution_count": 27,
   "id": "ccfc8f38-30af-4324-91d0-d02dda5d8c2c",
   "metadata": {},
   "outputs": [
    {
     "data": {
      "text/plain": [
       "array([[15, 18, 21, 24],\n",
       "       [15, 18, 21, 24],\n",
       "       [15, 18, 21, 24]])"
      ]
     },
     "execution_count": 27,
     "metadata": {},
     "output_type": "execute_result"
    }
   ],
   "source": [
    "third_order_tensor.sum(axis=1)"
   ]
  },
  {
   "cell_type": "code",
   "execution_count": 28,
   "id": "05f55e6a-dbd2-45c6-853c-be3ea85b5b2b",
   "metadata": {},
   "outputs": [
    {
     "data": {
      "text/plain": [
       "array([[10, 26, 42],\n",
       "       [10, 26, 42],\n",
       "       [10, 26, 42]])"
      ]
     },
     "execution_count": 28,
     "metadata": {},
     "output_type": "execute_result"
    }
   ],
   "source": [
    "third_order_tensor.sum(axis=2)"
   ]
  },
  {
   "cell_type": "code",
   "execution_count": 29,
   "id": "ebfaddf2-4d4a-40ee-b194-6adbcbef5754",
   "metadata": {},
   "outputs": [
    {
     "data": {
      "text/plain": [
       "array([[ 1,  2,  3,  4],\n",
       "       [ 5,  6,  7,  8],\n",
       "       [ 9, 10, 11, 12]])"
      ]
     },
     "execution_count": 29,
     "metadata": {},
     "output_type": "execute_result"
    }
   ],
   "source": [
    "test_array = np.arange(1,13).reshape(3,4)\n",
    "test_array"
   ]
  },
  {
   "cell_type": "code",
   "execution_count": 30,
   "id": "ee4ad1c3-e799-47de-acff-92205aa3759a",
   "metadata": {},
   "outputs": [
    {
     "data": {
      "text/plain": [
       "array([ 2.5,  6.5, 10.5])"
      ]
     },
     "execution_count": 30,
     "metadata": {},
     "output_type": "execute_result"
    }
   ],
   "source": [
    "test_array.mean(axis=1)"
   ]
  },
  {
   "cell_type": "code",
   "execution_count": 31,
   "id": "5de1b0f0-6a0b-4b9f-8c0e-9d8fc1c56e55",
   "metadata": {},
   "outputs": [
    {
     "data": {
      "text/plain": [
       "array([5., 6., 7., 8.])"
      ]
     },
     "execution_count": 31,
     "metadata": {},
     "output_type": "execute_result"
    }
   ],
   "source": [
    "test_array.mean(axis=0)"
   ]
  },
  {
   "cell_type": "code",
   "execution_count": 32,
   "id": "84ab6417-f9d1-480c-8477-8d85faba3675",
   "metadata": {},
   "outputs": [
    {
     "data": {
      "text/plain": [
       "3.452052529534663"
      ]
     },
     "execution_count": 32,
     "metadata": {},
     "output_type": "execute_result"
    }
   ],
   "source": [
    "test_array.std()"
   ]
  },
  {
   "cell_type": "code",
   "execution_count": 33,
   "id": "35532f64-a237-49b6-b15a-e635d41e50f5",
   "metadata": {},
   "outputs": [
    {
     "data": {
      "text/plain": [
       "array([3.26598632, 3.26598632, 3.26598632, 3.26598632])"
      ]
     },
     "execution_count": 33,
     "metadata": {},
     "output_type": "execute_result"
    }
   ],
   "source": [
    "test_array.std(axis=0)"
   ]
  },
  {
   "cell_type": "code",
   "execution_count": 34,
   "id": "4932309d-9462-47fc-8265-37c7a33ee240",
   "metadata": {},
   "outputs": [
    {
     "data": {
      "text/plain": [
       "array([[1.        , 1.41421356, 1.73205081, 2.        ],\n",
       "       [2.23606798, 2.44948974, 2.64575131, 2.82842712],\n",
       "       [3.        , 3.16227766, 3.31662479, 3.46410162]])"
      ]
     },
     "execution_count": 34,
     "metadata": {},
     "output_type": "execute_result"
    }
   ],
   "source": [
    "np.sqrt(test_array)"
   ]
  },
  {
   "cell_type": "code",
   "execution_count": 36,
   "id": "de4edcb7-9a6c-47a8-80b3-5e047058cb14",
   "metadata": {},
   "outputs": [
    {
     "data": {
      "text/plain": [
       "array([[1, 2, 3],\n",
       "       [4, 5, 6]])"
      ]
     },
     "execution_count": 36,
     "metadata": {},
     "output_type": "execute_result"
    }
   ],
   "source": [
    "v1=np.array([1,2,3])\n",
    "v2=np.array([4,5,6])\n",
    "np.vstack((v1,v2))"
   ]
  },
  {
   "cell_type": "code",
   "execution_count": 37,
   "id": "d7a094f8-b06f-4301-8af7-14b3c242077a",
   "metadata": {},
   "outputs": [
    {
     "data": {
      "text/plain": [
       "array([1, 2, 3, 4, 5, 6])"
      ]
     },
     "execution_count": 37,
     "metadata": {},
     "output_type": "execute_result"
    }
   ],
   "source": [
    "np.hstack((v1,v2))"
   ]
  },
  {
   "cell_type": "code",
   "execution_count": 48,
   "id": "50b29d8e-b17b-44c6-9c2e-60e81bdb932a",
   "metadata": {},
   "outputs": [
    {
     "data": {
      "text/plain": [
       "array([[1],\n",
       "       [2],\n",
       "       [3]])"
      ]
     },
     "execution_count": 48,
     "metadata": {},
     "output_type": "execute_result"
    }
   ],
   "source": [
    "v1=v1.reshape(-1,1)\n",
    "v2=v2.reshape(-1,1)\n",
    "v1"
   ]
  },
  {
   "cell_type": "code",
   "execution_count": 40,
   "id": "93a1428f-c9f4-45c9-b04a-2d9918635c64",
   "metadata": {},
   "outputs": [
    {
     "data": {
      "text/plain": [
       "array([[4],\n",
       "       [5],\n",
       "       [6]])"
      ]
     },
     "execution_count": 40,
     "metadata": {},
     "output_type": "execute_result"
    }
   ],
   "source": [
    "v2"
   ]
  },
  {
   "cell_type": "code",
   "execution_count": 42,
   "id": "9c61c860-03cf-4c52-8313-e93cb0fdae0f",
   "metadata": {},
   "outputs": [
    {
     "data": {
      "text/plain": [
       "array([[1, 4],\n",
       "       [2, 5],\n",
       "       [3, 6]])"
      ]
     },
     "execution_count": 42,
     "metadata": {},
     "output_type": "execute_result"
    }
   ],
   "source": [
    "np.hstack((v1,v2))"
   ]
  },
  {
   "cell_type": "code",
   "execution_count": 54,
   "id": "07e7f5c2-b2c2-4143-86cf-04f6b442cc0d",
   "metadata": {},
   "outputs": [
    {
     "data": {
      "text/plain": [
       "array([[1, 2, 3],\n",
       "       [4, 5, 6]])"
      ]
     },
     "execution_count": 54,
     "metadata": {},
     "output_type": "execute_result"
    }
   ],
   "source": [
    "v1=np.array([[1,2,3]])\n",
    "v2=np.array([[4,5,6]])\n",
    "np.concatenate((v1,v2),axis=0)"
   ]
  },
  {
   "cell_type": "code",
   "execution_count": 58,
   "id": "28a87084-4617-4a15-8567-5c97d9d11173",
   "metadata": {},
   "outputs": [
    {
     "data": {
      "text/plain": [
       "array([[1, 2],\n",
       "       [3, 4]])"
      ]
     },
     "execution_count": 58,
     "metadata": {},
     "output_type": "execute_result"
    }
   ],
   "source": [
    "v1=np.array([1,2,3,4]).reshape(2,2)\n",
    "v2=np.array([[5,6]]).reshape(2,1)\n",
    "v1"
   ]
  },
  {
   "cell_type": "code",
   "execution_count": 59,
   "id": "c44512d1-0f6f-4385-84bd-850e8e070f20",
   "metadata": {},
   "outputs": [
    {
     "data": {
      "text/plain": [
       "array([[5],\n",
       "       [6]])"
      ]
     },
     "execution_count": 59,
     "metadata": {},
     "output_type": "execute_result"
    }
   ],
   "source": [
    "v2"
   ]
  },
  {
   "cell_type": "code",
   "execution_count": 60,
   "id": "a00c7095-69bf-4fcb-b0f2-ac571dd33941",
   "metadata": {},
   "outputs": [
    {
     "data": {
      "text/plain": [
       "array([[1, 2, 5],\n",
       "       [3, 4, 6]])"
      ]
     },
     "execution_count": 60,
     "metadata": {},
     "output_type": "execute_result"
    }
   ],
   "source": [
    "np.concatenate((v1,v2),axis=1)"
   ]
  },
  {
   "cell_type": "code",
   "execution_count": 61,
   "id": "d3b93d5e-ab5d-40dd-bc17-de5d2b6de193",
   "metadata": {},
   "outputs": [
    {
     "data": {
      "text/plain": [
       "array([[1, 2],\n",
       "       [3, 4]])"
      ]
     },
     "execution_count": 61,
     "metadata": {},
     "output_type": "execute_result"
    }
   ],
   "source": [
    "v1=np.array([1,2,3,4]).reshape(2,2)\n",
    "v2=np.array([[5,6]])\n",
    "v1"
   ]
  },
  {
   "cell_type": "code",
   "execution_count": 62,
   "id": "a9c072ba-638f-4096-aef5-6e224d248c45",
   "metadata": {},
   "outputs": [
    {
     "data": {
      "text/plain": [
       "array([[5, 6]])"
      ]
     },
     "execution_count": 62,
     "metadata": {},
     "output_type": "execute_result"
    }
   ],
   "source": [
    "v2"
   ]
  },
  {
   "cell_type": "code",
   "execution_count": 63,
   "id": "69ca4e5b-cd75-4124-a4a1-104c7b4ffb85",
   "metadata": {},
   "outputs": [
    {
     "data": {
      "text/plain": [
       "array([[1, 2],\n",
       "       [3, 4],\n",
       "       [5, 6]])"
      ]
     },
     "execution_count": 63,
     "metadata": {},
     "output_type": "execute_result"
    }
   ],
   "source": [
    "np.concatenate((v1,v2),axis=0)"
   ]
  },
  {
   "cell_type": "code",
   "execution_count": 64,
   "id": "b0bab150-80f0-4fce-8389-1d7ebaeda7ec",
   "metadata": {},
   "outputs": [
    {
     "data": {
      "text/plain": [
       "array([[1, 2, 3],\n",
       "       [4, 5, 6]])"
      ]
     },
     "execution_count": 64,
     "metadata": {},
     "output_type": "execute_result"
    }
   ],
   "source": [
    "x=np.arange(1,7).reshape(2,3)\n",
    "x"
   ]
  },
  {
   "cell_type": "code",
   "execution_count": 65,
   "id": "af225f31-e648-4236-a2b5-c950479fdb7c",
   "metadata": {},
   "outputs": [
    {
     "data": {
      "text/plain": [
       "array([[ 2,  4,  6],\n",
       "       [ 8, 10, 12]])"
      ]
     },
     "execution_count": 65,
     "metadata": {},
     "output_type": "execute_result"
    }
   ],
   "source": [
    "x+x"
   ]
  },
  {
   "cell_type": "code",
   "execution_count": 66,
   "id": "668c0109-db87-4adb-8ee2-9679802c5525",
   "metadata": {},
   "outputs": [
    {
     "data": {
      "text/plain": [
       "array([[0, 0, 0],\n",
       "       [0, 0, 0]])"
      ]
     },
     "execution_count": 66,
     "metadata": {},
     "output_type": "execute_result"
    }
   ],
   "source": [
    "x-x"
   ]
  },
  {
   "cell_type": "code",
   "execution_count": 67,
   "id": "e3e6fb34-7345-4844-aa49-eeaddf3227f3",
   "metadata": {},
   "outputs": [
    {
     "data": {
      "text/plain": [
       "array([[1., 1., 1.],\n",
       "       [1., 1., 1.]])"
      ]
     },
     "execution_count": 67,
     "metadata": {},
     "output_type": "execute_result"
    }
   ],
   "source": [
    "x/x"
   ]
  },
  {
   "cell_type": "code",
   "execution_count": 68,
   "id": "f1a522cc-0826-409b-b3b1-30227f540714",
   "metadata": {},
   "outputs": [
    {
     "data": {
      "text/plain": [
       "array([[    1,     4,    27],\n",
       "       [  256,  3125, 46656]])"
      ]
     },
     "execution_count": 68,
     "metadata": {},
     "output_type": "execute_result"
    }
   ],
   "source": [
    "x**x"
   ]
  },
  {
   "cell_type": "code",
   "execution_count": 69,
   "id": "bc0eb36b-6f55-4698-aaeb-0670ffb7b1c2",
   "metadata": {},
   "outputs": [
    {
     "data": {
      "text/plain": [
       "array([[ 1,  4,  9],\n",
       "       [16, 25, 36]])"
      ]
     },
     "execution_count": 69,
     "metadata": {},
     "output_type": "execute_result"
    }
   ],
   "source": [
    "x*x"
   ]
  },
  {
   "cell_type": "code",
   "execution_count": 70,
   "id": "4d240240-4dfb-4a4c-b4a3-965013c342c0",
   "metadata": {},
   "outputs": [
    {
     "data": {
      "text/plain": [
       "array([[1, 2, 3],\n",
       "       [4, 5, 6]])"
      ]
     },
     "execution_count": 70,
     "metadata": {},
     "output_type": "execute_result"
    }
   ],
   "source": [
    "x_1=np.arange(1,7).reshape(2,3)\n",
    "x_2=np.arange(1,7).reshape(3,2)\n",
    "x_1"
   ]
  },
  {
   "cell_type": "code",
   "execution_count": 71,
   "id": "a7a2202d-020d-4e68-9c8b-a2f57cdefc6f",
   "metadata": {},
   "outputs": [
    {
     "data": {
      "text/plain": [
       "array([[1, 2],\n",
       "       [3, 4],\n",
       "       [5, 6]])"
      ]
     },
     "execution_count": 71,
     "metadata": {},
     "output_type": "execute_result"
    }
   ],
   "source": [
    "x_2"
   ]
  },
  {
   "cell_type": "code",
   "execution_count": 72,
   "id": "78f48165-6110-4a63-8f3d-bb7f77d92b85",
   "metadata": {},
   "outputs": [
    {
     "data": {
      "text/plain": [
       "array([[22, 28],\n",
       "       [49, 64]])"
      ]
     },
     "execution_count": 72,
     "metadata": {},
     "output_type": "execute_result"
    }
   ],
   "source": [
    "x_1.dot(x_2)"
   ]
  },
  {
   "cell_type": "code",
   "execution_count": 73,
   "id": "f41730f3-929a-4568-bec3-d3f82b148c64",
   "metadata": {},
   "outputs": [
    {
     "data": {
      "text/plain": [
       "array([[1, 2, 3],\n",
       "       [4, 5, 6],\n",
       "       [7, 8, 9]])"
      ]
     },
     "execution_count": 73,
     "metadata": {},
     "output_type": "execute_result"
    }
   ],
   "source": [
    "x=np.arange(1,10).reshape(3,3)\n",
    "x"
   ]
  },
  {
   "cell_type": "code",
   "execution_count": 74,
   "id": "aabaff8a-e99c-46ac-856a-96c6f450ad0d",
   "metadata": {},
   "outputs": [
    {
     "data": {
      "text/plain": [
       "array([[11, 12, 13],\n",
       "       [14, 15, 16],\n",
       "       [17, 18, 19]])"
      ]
     },
     "execution_count": 74,
     "metadata": {},
     "output_type": "execute_result"
    }
   ],
   "source": [
    "x+10"
   ]
  },
  {
   "cell_type": "code",
   "execution_count": 75,
   "id": "c9faee1d-295b-42db-90a9-fc8fa325d7b3",
   "metadata": {},
   "outputs": [
    {
     "data": {
      "text/plain": [
       "array([[-1,  0,  1],\n",
       "       [ 2,  3,  4],\n",
       "       [ 5,  6,  7]])"
      ]
     },
     "execution_count": 75,
     "metadata": {},
     "output_type": "execute_result"
    }
   ],
   "source": [
    "x-2"
   ]
  },
  {
   "cell_type": "code",
   "execution_count": 76,
   "id": "a3adebc4-c9dc-4261-a1bc-f3778769284b",
   "metadata": {},
   "outputs": [
    {
     "data": {
      "text/plain": [
       "array([[0, 0, 1],\n",
       "       [1, 1, 2],\n",
       "       [2, 2, 3]], dtype=int32)"
      ]
     },
     "execution_count": 76,
     "metadata": {},
     "output_type": "execute_result"
    }
   ],
   "source": [
    "x//3"
   ]
  },
  {
   "cell_type": "code",
   "execution_count": 77,
   "id": "2209ebd1-45c5-4924-bcc3-46351e0b626c",
   "metadata": {},
   "outputs": [
    {
     "data": {
      "text/plain": [
       "array([[ 1,  4,  9],\n",
       "       [16, 25, 36],\n",
       "       [49, 64, 81]])"
      ]
     },
     "execution_count": 77,
     "metadata": {},
     "output_type": "execute_result"
    }
   ],
   "source": [
    "x**2"
   ]
  },
  {
   "cell_type": "code",
   "execution_count": 79,
   "id": "a4441c88-68e5-42ca-972e-931f13ecdcf0",
   "metadata": {},
   "outputs": [
    {
     "data": {
      "text/plain": [
       "array([[ 1,  2,  3],\n",
       "       [ 4,  5,  6],\n",
       "       [ 7,  8,  9],\n",
       "       [10, 11, 12]])"
      ]
     },
     "execution_count": 79,
     "metadata": {},
     "output_type": "execute_result"
    }
   ],
   "source": [
    "x=np.arange(1,13).reshape(4,3)\n",
    "x"
   ]
  },
  {
   "cell_type": "code",
   "execution_count": 81,
   "id": "4e52e131-55d0-4e47-9146-97bafdcba839",
   "metadata": {},
   "outputs": [
    {
     "data": {
      "text/plain": [
       "array([10, 20, 30])"
      ]
     },
     "execution_count": 81,
     "metadata": {},
     "output_type": "execute_result"
    }
   ],
   "source": [
    "v=np.arange(10,40,10)\n",
    "v"
   ]
  },
  {
   "cell_type": "code",
   "execution_count": 82,
   "id": "810e4837-d8ef-4f66-bc70-57c5e2d3efa0",
   "metadata": {},
   "outputs": [
    {
     "data": {
      "text/plain": [
       "array([[11, 22, 33],\n",
       "       [14, 25, 36],\n",
       "       [17, 28, 39],\n",
       "       [20, 31, 42]])"
      ]
     },
     "execution_count": 82,
     "metadata": {},
     "output_type": "execute_result"
    }
   ],
   "source": [
    "x+v"
   ]
  },
  {
   "cell_type": "code",
   "execution_count": 86,
   "id": "8356cffe-5d26-452b-b106-2a862c1efd81",
   "metadata": {},
   "outputs": [
    {
     "data": {
      "text/plain": [
       "array([ True, False, False,  True,  True,  True])"
      ]
     },
     "execution_count": 86,
     "metadata": {},
     "output_type": "execute_result"
    }
   ],
   "source": [
    "import numpy as np\n",
    "x=np.array([4,3,2,6,8,5])\n",
    "x>3"
   ]
  },
  {
   "cell_type": "code",
   "execution_count": 88,
   "id": "a763e5a7-2c45-41fb-831b-913858798fbd",
   "metadata": {},
   "outputs": [
    {
     "data": {
      "text/plain": [
       "array([False,  True, False])"
      ]
     },
     "execution_count": 88,
     "metadata": {},
     "output_type": "execute_result"
    }
   ],
   "source": [
    "x=np.array([1,3,0])\n",
    "y=np.array([2,1,7])\n",
    "x>y"
   ]
  },
  {
   "cell_type": "code",
   "execution_count": 89,
   "id": "9e99d61f-1207-4ec6-824d-0a62bd8e0e45",
   "metadata": {},
   "outputs": [
    {
     "data": {
      "text/plain": [
       "array([ True,  True,  True, False, False])"
      ]
     },
     "execution_count": 89,
     "metadata": {},
     "output_type": "execute_result"
    }
   ],
   "source": [
    "x=np.array([4,7,6,3,2])\n",
    "(x>3)"
   ]
  },
  {
   "cell_type": "code",
   "execution_count": 90,
   "id": "077f2003-bb49-493f-ad89-b9f8d2296877",
   "metadata": {},
   "outputs": [
    {
     "data": {
      "text/plain": [
       "False"
      ]
     },
     "execution_count": 90,
     "metadata": {},
     "output_type": "execute_result"
    }
   ],
   "source": [
    "(x>3).all()"
   ]
  },
  {
   "cell_type": "code",
   "execution_count": 91,
   "id": "2752ee5d-86de-440b-9fb2-760dcbeedd5e",
   "metadata": {},
   "outputs": [
    {
     "data": {
      "text/plain": [
       "True"
      ]
     },
     "execution_count": 91,
     "metadata": {},
     "output_type": "execute_result"
    }
   ],
   "source": [
    "(x>3).any()"
   ]
  },
  {
   "cell_type": "code",
   "execution_count": 92,
   "id": "b48076c7-3a34-4e1c-9710-55fc2dbc4c9b",
   "metadata": {},
   "outputs": [
    {
     "data": {
      "text/plain": [
       "array([False,  True,  True, False, False])"
      ]
     },
     "execution_count": 92,
     "metadata": {},
     "output_type": "execute_result"
    }
   ],
   "source": [
    "x=np.array([4,7,6,3,2])\n",
    "x>5"
   ]
  },
  {
   "cell_type": "code",
   "execution_count": 93,
   "id": "b122f391-6cbe-4d72-960a-7d3d03f81557",
   "metadata": {},
   "outputs": [
    {
     "data": {
      "text/plain": [
       "(array([1, 2], dtype=int64),)"
      ]
     },
     "execution_count": 93,
     "metadata": {},
     "output_type": "execute_result"
    }
   ],
   "source": [
    "np.where(x>5)"
   ]
  },
  {
   "cell_type": "code",
   "execution_count": 94,
   "id": "4f19eb7f-0f35-4bfc-b0f8-f45c9cce6f71",
   "metadata": {},
   "outputs": [
    {
     "data": {
      "text/plain": [
       "array([20, 10, 10, 20, 20])"
      ]
     },
     "execution_count": 94,
     "metadata": {},
     "output_type": "execute_result"
    }
   ],
   "source": [
    "x=np.array([4,7,6,3,2])\n",
    "np.where(x>5,10,20)"
   ]
  },
  {
   "cell_type": "code",
   "execution_count": 95,
   "id": "296116e9-08cf-42c7-9b10-ee6a825575fa",
   "metadata": {},
   "outputs": [
    {
     "data": {
      "text/plain": [
       "array([4, 3, 0, 2, 1], dtype=int64)"
      ]
     },
     "execution_count": 95,
     "metadata": {},
     "output_type": "execute_result"
    }
   ],
   "source": [
    "x=np.array([4,7,6,3,2])\n",
    "np.argsort(x)"
   ]
  },
  {
   "cell_type": "code",
   "execution_count": 96,
   "id": "f2462e5c-523f-475e-9666-5470691d9151",
   "metadata": {},
   "outputs": [
    {
     "data": {
      "text/plain": [
       "1"
      ]
     },
     "execution_count": 96,
     "metadata": {},
     "output_type": "execute_result"
    }
   ],
   "source": [
    "np.argmax(x)"
   ]
  },
  {
   "cell_type": "code",
   "execution_count": 97,
   "id": "8367cf84-c3cb-4b5e-abac-7e1a56e22049",
   "metadata": {},
   "outputs": [
    {
     "data": {
      "text/plain": [
       "4"
      ]
     },
     "execution_count": 97,
     "metadata": {},
     "output_type": "execute_result"
    }
   ],
   "source": [
    "np.argmin(x)"
   ]
  },
  {
   "cell_type": "code",
   "execution_count": 98,
   "id": "fda0e5d5-3cff-494a-9421-a8d14fd89cb8",
   "metadata": {},
   "outputs": [
    {
     "data": {
      "text/plain": [
       "array([ True,  True,  True, False, False])"
      ]
     },
     "execution_count": 98,
     "metadata": {},
     "output_type": "execute_result"
    }
   ],
   "source": [
    "x=np.array([4,7,6,3,2])\n",
    "x>3"
   ]
  },
  {
   "cell_type": "code",
   "execution_count": 99,
   "id": "e0394e3b-ee2d-47b7-a8ec-50a75525e853",
   "metadata": {},
   "outputs": [
    {
     "data": {
      "text/plain": [
       "array([4, 7, 6])"
      ]
     },
     "execution_count": 99,
     "metadata": {},
     "output_type": "execute_result"
    }
   ],
   "source": [
    "cond=x>3\n",
    "x[cond]"
   ]
  },
  {
   "cell_type": "code",
   "execution_count": 100,
   "id": "06c65ef6-300e-4b0a-b404-f2d1331fe928",
   "metadata": {},
   "outputs": [
    {
     "data": {
      "text/plain": [
       "(5,)"
      ]
     },
     "execution_count": 100,
     "metadata": {},
     "output_type": "execute_result"
    }
   ],
   "source": [
    "x.shape"
   ]
  },
  {
   "cell_type": "code",
   "execution_count": 101,
   "id": "b546269d-4565-4a00-8551-f075c16f659f",
   "metadata": {},
   "outputs": [
    {
     "data": {
      "text/plain": [
       "(5,)"
      ]
     },
     "execution_count": 101,
     "metadata": {},
     "output_type": "execute_result"
    }
   ],
   "source": [
    "cond.shape"
   ]
  },
  {
   "cell_type": "code",
   "execution_count": 102,
   "id": "97b42071-8426-415d-bf6f-82b6ba8ebaf1",
   "metadata": {},
   "outputs": [
    {
     "data": {
      "text/plain": [
       "array([7, 6, 4, 6, 6, 6])"
      ]
     },
     "execution_count": 102,
     "metadata": {},
     "output_type": "execute_result"
    }
   ],
   "source": [
    "x=np.array([4,7,6,3,2])\n",
    "cond=np.array([1,2,0,2,2,2,],int)\n",
    "x[cond]"
   ]
  },
  {
   "cell_type": "code",
   "execution_count": 103,
   "id": "a908e0a0-7a77-4dee-a8f4-7b2b577e9bd8",
   "metadata": {},
   "outputs": [
    {
     "data": {
      "text/plain": [
       "array([7, 6, 4, 6, 6, 6])"
      ]
     },
     "execution_count": 103,
     "metadata": {},
     "output_type": "execute_result"
    }
   ],
   "source": [
    "x.take(cond)"
   ]
  },
  {
   "cell_type": "code",
   "execution_count": 104,
   "id": "624d96df-c400-4fc7-8399-886be1c61307",
   "metadata": {},
   "outputs": [
    {
     "data": {
      "text/plain": [
       "array([ 1,  9,  9, 16,  4,  4])"
      ]
     },
     "execution_count": 104,
     "metadata": {},
     "output_type": "execute_result"
    }
   ],
   "source": [
    "x=np.array([[1,4],[9,16]],int)\n",
    "a=np.array([0,1,1,1,0,0],int)\n",
    "b=np.array([0,0,0,1,1,1],int)\n",
    "x[a,b]"
   ]
  }
 ],
 "metadata": {
  "kernelspec": {
   "display_name": "Python 3 (ipykernel)",
   "language": "python",
   "name": "python3"
  },
  "language_info": {
   "codemirror_mode": {
    "name": "ipython",
    "version": 3
   },
   "file_extension": ".py",
   "mimetype": "text/x-python",
   "name": "python",
   "nbconvert_exporter": "python",
   "pygments_lexer": "ipython3",
   "version": "3.9.18"
  }
 },
 "nbformat": 4,
 "nbformat_minor": 5
}
