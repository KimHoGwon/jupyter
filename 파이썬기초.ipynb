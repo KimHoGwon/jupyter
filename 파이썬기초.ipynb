{
 "cells": [
  {
   "cell_type": "code",
   "execution_count": 6,
   "id": "579920b4-95fa-49fc-99f1-fcfce0123a69",
   "metadata": {},
   "outputs": [
    {
     "name": "stdout",
     "output_type": "stream",
     "text": [
      "10\n"
     ]
    }
   ],
   "source": [
    "k=10\n",
    "print(k)"
   ]
  },
  {
   "cell_type": "code",
   "execution_count": 9,
   "id": "7bcd3422-5458-45fb-95ea-c9fc15585c05",
   "metadata": {},
   "outputs": [
    {
     "name": "stdout",
     "output_type": "stream",
     "text": [
      "# 하나만 출력합니다\n",
      "Hello Python Programming\n",
      "\n"
     ]
    }
   ],
   "source": [
    "print(\"# 하나만 출력합니다\");\n",
    "print(\"Hello Python Programming\");\n",
    "print();"
   ]
  },
  {
   "cell_type": "code",
   "execution_count": 10,
   "id": "d674089b-ba0b-49ac-bc67-1093d9f1feea",
   "metadata": {},
   "outputs": [
    {
     "name": "stdout",
     "output_type": "stream",
     "text": [
      "# 여러개를 출력합니다\n",
      "10 20 30 40\n",
      "아 야 어 여\n",
      "\n"
     ]
    }
   ],
   "source": [
    "print(\"# 여러개를 출력합니다\");\n",
    "print(10,20,30,40);\n",
    "print(\"아\",\"야\",\"어\",\"여\");\n",
    "print();"
   ]
  },
  {
   "cell_type": "code",
   "execution_count": 17,
   "id": "886d59cc-9f26-40d2-b8f2-0328e36cda50",
   "metadata": {
    "scrolled": true
   },
   "outputs": [
    {
     "name": "stdout",
     "output_type": "stream",
     "text": [
      "<class 'str'>\n",
      "<class 'int'>\n"
     ]
    }
   ],
   "source": [
    "print(type(\"안녕하세요\"))\n",
    "\n",
    "print(type(273))\n"
   ]
  },
  {
   "cell_type": "code",
   "execution_count": 19,
   "id": "423169a3-fad6-4c30-8ab7-2d55eb2be502",
   "metadata": {},
   "outputs": [
    {
     "name": "stdout",
     "output_type": "stream",
     "text": [
      "<class 'str'>\n"
     ]
    }
   ],
   "source": [
    "print(type(\"11111\"))"
   ]
  },
  {
   "cell_type": "code",
   "execution_count": 20,
   "id": "37b32609-c706-428f-9751-8632232c21a6",
   "metadata": {},
   "outputs": [
    {
     "name": "stdout",
     "output_type": "stream",
     "text": [
      "<class 'str'>\n"
     ]
    }
   ],
   "source": [
    "print(type('11111'))"
   ]
  },
  {
   "cell_type": "code",
   "execution_count": 24,
   "id": "c43333a4-4e0d-44e8-8049-e7f3fb59b8f0",
   "metadata": {},
   "outputs": [
    {
     "name": "stdout",
     "output_type": "stream",
     "text": [
      "111\t11\t1111\n"
     ]
    }
   ],
   "source": [
    "print(\"111\\t11\\t1111\")"
   ]
  },
  {
   "cell_type": "code",
   "execution_count": 25,
   "id": "19356b8d-d1d0-488f-98a3-e85682a65ff2",
   "metadata": {},
   "outputs": [
    {
     "name": "stdout",
     "output_type": "stream",
     "text": [
      "111 11 1111\n"
     ]
    }
   ],
   "source": [
    "print(\"111\",\"11\",\"1111\")"
   ]
  },
  {
   "cell_type": "code",
   "execution_count": 26,
   "id": "0b14a79a-61d7-4042-a14f-21072c7a12d5",
   "metadata": {},
   "outputs": [
    {
     "name": "stdout",
     "output_type": "stream",
     "text": [
      "안녕하세요\n",
      "반갑습니다\n"
     ]
    }
   ],
   "source": [
    "print(\"안녕하세요\\n반갑습니다\")"
   ]
  },
  {
   "cell_type": "code",
   "execution_count": 34,
   "id": "84116e2b-d48e-4150-ba6b-66e22e7c75e1",
   "metadata": {},
   "outputs": [
    {
     "name": "stdout",
     "output_type": "stream",
     "text": [
      "안녕\n",
      "반갑\n"
     ]
    }
   ],
   "source": [
    "print(\"\"\"안녕\n",
    "반갑\"\"\")"
   ]
  },
  {
   "cell_type": "code",
   "execution_count": 36,
   "id": "09f75b60-eddf-4465-9ca2-bcdab87a3fa7",
   "metadata": {},
   "outputs": [
    {
     "name": "stdout",
     "output_type": "stream",
     "text": [
      "\n",
      "동해물과 백두산이 마르고 닳도록\n",
      "하느님이 보우하사 \n",
      "우리 나라 만세\n",
      "무궁화 삼천리\n",
      "\n"
     ]
    }
   ],
   "source": [
    "print(\"\"\"\n",
    "동해물과 백두산이 마르고 닳도록\n",
    "하느님이 보우하사 \n",
    "우리 나라 만세\n",
    "무궁화 삼천리\n",
    "\"\"\")"
   ]
  },
  {
   "cell_type": "code",
   "execution_count": 37,
   "id": "b742b4b9-a7bd-4e18-bda5-bed1fe73695f",
   "metadata": {},
   "outputs": [
    {
     "name": "stdout",
     "output_type": "stream",
     "text": [
      "abcabcabc\n"
     ]
    }
   ],
   "source": [
    "print(3*\"abc\")"
   ]
  },
  {
   "cell_type": "code",
   "execution_count": 43,
   "id": "fd695ae6-e865-4246-a12b-402342dce189",
   "metadata": {},
   "outputs": [
    {
     "name": "stdout",
     "output_type": "stream",
     "text": [
      "안녕\n",
      "안녕하세요\n"
     ]
    }
   ],
   "source": [
    "hello=\"안녕하세요\";\n",
    "print(hello[0:2]);\n",
    "print(hello);"
   ]
  },
  {
   "cell_type": "code",
   "execution_count": 47,
   "id": "2c26598c-4ef8-4fdf-9ede-1b04daa4118a",
   "metadata": {},
   "outputs": [
    {
     "data": {
      "text/plain": [
       "9"
      ]
     },
     "execution_count": 47,
     "metadata": {},
     "output_type": "execute_result"
    }
   ],
   "source": [
    "len(\"asdnfosaf\")"
   ]
  },
  {
   "cell_type": "code",
   "execution_count": 48,
   "id": "7bb80c80-d69d-42d5-8c4e-bc23e0e75404",
   "metadata": {
    "scrolled": true
   },
   "outputs": [
    {
     "name": "stdout",
     "output_type": "stream",
     "text": [
      "273\n"
     ]
    }
   ],
   "source": [
    "print(273)"
   ]
  },
  {
   "cell_type": "code",
   "execution_count": 52,
   "id": "d1f64872-cf3c-465e-9ca3-f5cf9bb74520",
   "metadata": {},
   "outputs": [
    {
     "name": "stdout",
     "output_type": "stream",
     "text": [
      "5.2\n"
     ]
    }
   ],
   "source": [
    "print(5.2)"
   ]
  },
  {
   "cell_type": "code",
   "execution_count": 54,
   "id": "2d8afe54-3fdf-4f8d-a70f-70b83c71bec3",
   "metadata": {},
   "outputs": [
    {
     "name": "stdout",
     "output_type": "stream",
     "text": [
      "<class 'int'>\n"
     ]
    }
   ],
   "source": [
    "print(type(51))"
   ]
  },
  {
   "cell_type": "code",
   "execution_count": 55,
   "id": "e5588452-6c0a-4f32-a3a4-451108f931af",
   "metadata": {},
   "outputs": [
    {
     "name": "stdout",
     "output_type": "stream",
     "text": [
      "<class 'float'>\n"
     ]
    }
   ],
   "source": [
    "print(type(5.2))"
   ]
  },
  {
   "cell_type": "code",
   "execution_count": 57,
   "id": "cf19f99b-95ef-455f-8626-c8c3acc6099b",
   "metadata": {},
   "outputs": [
    {
     "name": "stdout",
     "output_type": "stream",
     "text": [
      "5+6= 11\n"
     ]
    }
   ],
   "source": [
    "print(\"5+6=\",5+6)"
   ]
  },
  {
   "cell_type": "code",
   "execution_count": 58,
   "id": "a1517079-18a5-4f4e-8e2a-066b06e7f4ba",
   "metadata": {},
   "outputs": [
    {
     "name": "stdout",
     "output_type": "stream",
     "text": [
      "4\n"
     ]
    }
   ],
   "source": [
    "print(5-1)"
   ]
  },
  {
   "cell_type": "code",
   "execution_count": 59,
   "id": "9fd1bb5d-aabe-4c51-8a9f-ddc405074bc0",
   "metadata": {},
   "outputs": [
    {
     "name": "stdout",
     "output_type": "stream",
     "text": [
      "20\n"
     ]
    }
   ],
   "source": [
    "print(5*4)"
   ]
  },
  {
   "cell_type": "code",
   "execution_count": 60,
   "id": "c4812156-3c33-4f92-8629-17841936b08c",
   "metadata": {},
   "outputs": [
    {
     "name": "stdout",
     "output_type": "stream",
     "text": [
      "0.7142857142857143\n"
     ]
    }
   ],
   "source": [
    "print(5/7)"
   ]
  },
  {
   "cell_type": "code",
   "execution_count": 49,
   "id": "7b0c522e-840c-4e89-9592-4900f96b0acd",
   "metadata": {},
   "outputs": [
    {
     "name": "stdout",
     "output_type": "stream",
     "text": [
      "52.273\n"
     ]
    }
   ],
   "source": [
    "print(52.273)"
   ]
  },
  {
   "cell_type": "code",
   "execution_count": 50,
   "id": "2508755b-af5a-4a2d-8b1b-433ae9750100",
   "metadata": {},
   "outputs": [
    {
     "name": "stdout",
     "output_type": "stream",
     "text": [
      "<class 'int'>\n"
     ]
    }
   ],
   "source": [
    "print(type(52))"
   ]
  },
  {
   "cell_type": "code",
   "execution_count": 51,
   "id": "c85f2b9c-07d1-4a56-a765-92c0cfa18f84",
   "metadata": {},
   "outputs": [
    {
     "name": "stdout",
     "output_type": "stream",
     "text": [
      "<class 'float'>\n"
     ]
    }
   ],
   "source": [
    "print(type(52.2))"
   ]
  },
  {
   "cell_type": "code",
   "execution_count": 61,
   "id": "1f9ec5ec-189c-4098-886b-c8a12a6eb601",
   "metadata": {},
   "outputs": [
    {
     "name": "stdout",
     "output_type": "stream",
     "text": [
      "1.5\n"
     ]
    }
   ],
   "source": [
    "print(3/2)"
   ]
  },
  {
   "cell_type": "code",
   "execution_count": 64,
   "id": "51de1168-b97f-4421-bd24-1c92276b7ed4",
   "metadata": {},
   "outputs": [
    {
     "name": "stdout",
     "output_type": "stream",
     "text": [
      "몫 1\n"
     ]
    }
   ],
   "source": [
    "print(\"몫\",3//2)"
   ]
  },
  {
   "cell_type": "code",
   "execution_count": 65,
   "id": "92cbf124-de01-4a91-85fc-f96c7c143272",
   "metadata": {},
   "outputs": [
    {
     "name": "stdout",
     "output_type": "stream",
     "text": [
      "나머지 1\n"
     ]
    }
   ],
   "source": [
    "print(\"나머지\",5%2)"
   ]
  },
  {
   "cell_type": "code",
   "execution_count": 66,
   "id": "a2e3a5e8-8a53-497c-86dd-c8931b4b5806",
   "metadata": {},
   "outputs": [
    {
     "name": "stdout",
     "output_type": "stream",
     "text": [
      "제곱 8\n"
     ]
    }
   ],
   "source": [
    "print(\"제곱\",2**3)"
   ]
  },
  {
   "cell_type": "code",
   "execution_count": 67,
   "id": "ea57ba92-13e3-4da4-90a2-116f4b8d88f8",
   "metadata": {},
   "outputs": [
    {
     "name": "stdout",
     "output_type": "stream",
     "text": [
      "1024\n"
     ]
    }
   ],
   "source": [
    "print(2**10)"
   ]
  },
  {
   "cell_type": "code",
   "execution_count": 68,
   "id": "e5e42b28-6282-4458-bb84-510ffc7194f3",
   "metadata": {},
   "outputs": [
    {
     "name": "stdout",
     "output_type": "stream",
     "text": [
      "0.0\n"
     ]
    }
   ],
   "source": [
    "print(2+2-2*2/2*2)"
   ]
  },
  {
   "cell_type": "code",
   "execution_count": 69,
   "id": "70af94fe-b2c0-41d5-ae0b-271bbdc7e17e",
   "metadata": {},
   "outputs": [
    {
     "name": "stdout",
     "output_type": "stream",
     "text": [
      "2.0\n"
     ]
    }
   ],
   "source": [
    "print(2-2+2/2*2)"
   ]
  },
  {
   "cell_type": "code",
   "execution_count": 71,
   "id": "958ce95b-13c9-4f9a-8b90-3885e2686357",
   "metadata": {},
   "outputs": [
    {
     "name": "stdout",
     "output_type": "stream",
     "text": [
      "string: 안녕!!\n"
     ]
    }
   ],
   "source": [
    "string = \"안녕\"\n",
    "string+=\"!\"\n",
    "string+=\"!\"\n",
    "print(\"string:\",string)"
   ]
  },
  {
   "cell_type": "raw",
   "id": "04a6138c-89a7-4f39-9a81-3e5df959e56a",
   "metadata": {},
   "source": [
    "string=input(\"인사말>\")"
   ]
  },
  {
   "cell_type": "code",
   "execution_count": 73,
   "id": "1a3585e3-4e16-439b-8996-edf393b66d09",
   "metadata": {},
   "outputs": [
    {
     "name": "stdout",
     "output_type": "stream",
     "text": [
      "하이하이\n"
     ]
    }
   ],
   "source": [
    "print(string)"
   ]
  },
  {
   "cell_type": "code",
   "execution_count": 74,
   "id": "bc034359-550e-4ae7-9af5-e64d3b5cefde",
   "metadata": {},
   "outputs": [
    {
     "name": "stdout",
     "output_type": "stream",
     "text": [
      "<class 'str'>\n"
     ]
    }
   ],
   "source": [
    "print(type(string))"
   ]
  },
  {
   "cell_type": "code",
   "execution_count": 75,
   "id": "9a0cd7ac-328f-437d-b5a8-740d2293ee01",
   "metadata": {},
   "outputs": [
    {
     "name": "stdin",
     "output_type": "stream",
     "text": [
      "숫자입력> 12345\n"
     ]
    }
   ],
   "source": [
    "number = input(\"숫자입력>\")"
   ]
  },
  {
   "cell_type": "code",
   "execution_count": 76,
   "id": "d2458fc6-d10d-41b1-8ce1-21b1b81ec7a7",
   "metadata": {},
   "outputs": [
    {
     "name": "stdout",
     "output_type": "stream",
     "text": [
      "12345\n"
     ]
    }
   ],
   "source": [
    "print(number)"
   ]
  },
  {
   "cell_type": "code",
   "execution_count": 77,
   "id": "c0a14e9a-96ce-42e8-8a50-062ea8ca3ab3",
   "metadata": {},
   "outputs": [
    {
     "name": "stdout",
     "output_type": "stream",
     "text": [
      "<class 'str'>\n"
     ]
    }
   ],
   "source": [
    "print(type(number))"
   ]
  },
  {
   "cell_type": "code",
   "execution_count": 78,
   "id": "0b8848bf-f236-44c8-b0da-d27d3dafe6e1",
   "metadata": {},
   "outputs": [
    {
     "name": "stdin",
     "output_type": "stream",
     "text": [
      "입력a> 273\n"
     ]
    }
   ],
   "source": [
    "string_a=input(\"입력a>\")\n",
    "int_a=int(string_a)"
   ]
  },
  {
   "cell_type": "code",
   "execution_count": 79,
   "id": "727d1898-4ab1-41b2-aefb-9d42883612a2",
   "metadata": {},
   "outputs": [
    {
     "name": "stdin",
     "output_type": "stream",
     "text": [
      "입력b> 458\n"
     ]
    }
   ],
   "source": [
    "string_b=input(\"입력b>\")\n",
    "int_b=int(string_b)"
   ]
  },
  {
   "cell_type": "code",
   "execution_count": 80,
   "id": "f7101c51-31c8-41d8-9807-7ae4d8711828",
   "metadata": {},
   "outputs": [
    {
     "name": "stdout",
     "output_type": "stream",
     "text": [
      "문자열 273458\n",
      "숫자 731\n"
     ]
    }
   ],
   "source": [
    "print(\"문자열\",string_a+string_b)\n",
    "print(\"숫자\",int_a+int_b)"
   ]
  },
  {
   "cell_type": "code",
   "execution_count": 81,
   "id": "c16628a1-8c04-4b56-8cbc-960132741d2a",
   "metadata": {},
   "outputs": [
    {
     "name": "stdout",
     "output_type": "stream",
     "text": [
      "<class 'int'> 52\n",
      "<class 'float'> 52.2\n"
     ]
    }
   ],
   "source": [
    "output_a=int(\"52\")\n",
    "output_b=float(\"52.2\")\n",
    "\n",
    "print(type(output_a),output_a)\n",
    "print(type(output_b),output_b)\n"
   ]
  },
  {
   "cell_type": "code",
   "execution_count": 82,
   "id": "70387258-ad6c-4c93-943a-68c0bbefcc07",
   "metadata": {},
   "outputs": [
    {
     "ename": "ValueError",
     "evalue": "invalid literal for int() with base 10: '5.2'",
     "output_type": "error",
     "traceback": [
      "\u001b[1;31m---------------------------------------------------------------------------\u001b[0m",
      "\u001b[1;31mValueError\u001b[0m                                Traceback (most recent call last)",
      "Cell \u001b[1;32mIn[82], line 1\u001b[0m\n\u001b[1;32m----> 1\u001b[0m \u001b[38;5;28;43mint\u001b[39;49m\u001b[43m(\u001b[49m\u001b[38;5;124;43m\"\u001b[39;49m\u001b[38;5;124;43m5.2\u001b[39;49m\u001b[38;5;124;43m\"\u001b[39;49m\u001b[43m)\u001b[49m\n",
      "\u001b[1;31mValueError\u001b[0m: invalid literal for int() with base 10: '5.2'"
     ]
    }
   ],
   "source": [
    "int(\"5.2\")"
   ]
  },
  {
   "cell_type": "code",
   "execution_count": 88,
   "id": "ea30d69f-c953-4c31-bc19-154d31461504",
   "metadata": {},
   "outputs": [
    {
     "name": "stdout",
     "output_type": "stream",
     "text": [
      "<class 'str'> 52\n",
      "<class 'str'> 52.2\n"
     ]
    }
   ],
   "source": [
    "out_a=str(52)\n",
    "out_b=str(52.2)\n",
    "print(type(out_a),out_a)\n",
    "print(type(out_b),out_b)"
   ]
  },
  {
   "cell_type": "code",
   "execution_count": 91,
   "id": "98af8c6b-c451-4660-a2d7-c57d60cbd81e",
   "metadata": {},
   "outputs": [
    {
     "name": "stdout",
     "output_type": "stream",
     "text": [
      "True\n"
     ]
    }
   ],
   "source": [
    "print(True)"
   ]
  },
  {
   "cell_type": "code",
   "execution_count": 92,
   "id": "a72c71bc-69b8-45e1-882c-3dff77664638",
   "metadata": {},
   "outputs": [
    {
     "name": "stdout",
     "output_type": "stream",
     "text": [
      "False\n"
     ]
    }
   ],
   "source": [
    "print(False)"
   ]
  },
  {
   "cell_type": "code",
   "execution_count": 96,
   "id": "a3b56c43-3fd1-4a98-ae74-506194548338",
   "metadata": {},
   "outputs": [
    {
     "name": "stdout",
     "output_type": "stream",
     "text": [
      "False\n",
      "True\n",
      "True\n",
      "False\n",
      "True\n",
      "False\n"
     ]
    }
   ],
   "source": [
    "print(10==11)\n",
    "print(10!=11)\n",
    "print(10<11)\n",
    "print(10>11)\n",
    "print(10<=11)\n",
    "print(10>=11)"
   ]
  },
  {
   "cell_type": "code",
   "execution_count": 98,
   "id": "c130ccc7-581f-457e-82ef-aadc50a5ed96",
   "metadata": {},
   "outputs": [
    {
     "name": "stdout",
     "output_type": "stream",
     "text": [
      "True\n",
      "True\n",
      "True\n",
      "False\n"
     ]
    }
   ],
   "source": [
    "print(\"가방\"==\"가방\")\n",
    "print(\"가방\"!=\"하마\")\n",
    "print(\"가방\"<\"하마\")\n",
    "print(\"가방\">\"하마\")"
   ]
  },
  {
   "cell_type": "code",
   "execution_count": 103,
   "id": "ab42e3c5-88c1-48a4-949f-ab8611881e6d",
   "metadata": {},
   "outputs": [
    {
     "name": "stdout",
     "output_type": "stream",
     "text": [
      "False\n"
     ]
    }
   ],
   "source": [
    "print(\"ㅏ\">\"ㅑ\")"
   ]
  },
  {
   "cell_type": "code",
   "execution_count": 108,
   "id": "c3c81b41-a311-4251-9759-9bb95ae9738d",
   "metadata": {},
   "outputs": [
    {
     "name": "stdout",
     "output_type": "stream",
     "text": [
      "False\n"
     ]
    }
   ],
   "source": [
    "print(\"가가\"<\"가 가\")"
   ]
  },
  {
   "cell_type": "code",
   "execution_count": 110,
   "id": "998ddbd0-e7ec-49aa-838b-34069da14b24",
   "metadata": {},
   "outputs": [
    {
     "name": "stdout",
     "output_type": "stream",
     "text": [
      "False\n",
      "True\n"
     ]
    }
   ],
   "source": [
    "print(not True)\n",
    "print(not False)"
   ]
  },
  {
   "cell_type": "code",
   "execution_count": 111,
   "id": "bc833946-3cdb-4c9e-b26a-d5f71e022bc5",
   "metadata": {},
   "outputs": [
    {
     "name": "stdout",
     "output_type": "stream",
     "text": [
      "True\n",
      "False\n"
     ]
    }
   ],
   "source": [
    "x=10\n",
    "under_20=x<20\n",
    "print(under_20)\n",
    "print(not under_20)"
   ]
  },
  {
   "cell_type": "code",
   "execution_count": 114,
   "id": "6b12a6a8-1d47-4fc5-b286-69e76249b917",
   "metadata": {},
   "outputs": [
    {
     "name": "stdout",
     "output_type": "stream",
     "text": [
      "true임\n",
      "정말임\n"
     ]
    }
   ],
   "source": [
    "if True:\n",
    "    print(\"true임\")\n",
    "    print(\"정말임\")  "
   ]
  },
  {
   "cell_type": "code",
   "execution_count": 116,
   "id": "1a2cdb7e-a20d-4447-bbf9-9986c957961a",
   "metadata": {},
   "outputs": [],
   "source": [
    "if False:\n",
    "    print(\"False임\")\n",
    "\n"
   ]
  },
  {
   "cell_type": "code",
   "execution_count": 119,
   "id": "30b5df37-3a9d-496f-8aff-43ce07632f86",
   "metadata": {},
   "outputs": [
    {
     "name": "stdin",
     "output_type": "stream",
     "text": [
      "정수입력> 0\n"
     ]
    },
    {
     "name": "stdout",
     "output_type": "stream",
     "text": [
      "0입니다.\n"
     ]
    }
   ],
   "source": [
    "number=input(\"정수입력>\")\n",
    "number=int(number)\n",
    "\n",
    "if number>0:\n",
    "    print(\"양수입니다.\")\n",
    "\n",
    "if number<0:\n",
    "    print(\"음수입니다.\")\n",
    "\n",
    "if number==0:\n",
    "    print(\"0입니다.\")\n"
   ]
  },
  {
   "cell_type": "code",
   "execution_count": 120,
   "id": "c256f2ec-eea2-4bb5-aadc-6c97dece04eb",
   "metadata": {},
   "outputs": [
    {
     "name": "stdout",
     "output_type": "stream",
     "text": [
      "2024 년\n",
      "1 월\n",
      "18 일\n",
      "15 시\n",
      "6 분\n",
      "39 초\n"
     ]
    }
   ],
   "source": [
    "import datetime\n",
    "now = datetime.datetime.now()\n",
    "\n",
    "print(now.year, \"년\")\n",
    "print(now.month, \"월\")\n",
    "print(now.day, \"일\")\n",
    "print(now.hour, \"시\")\n",
    "print(now.minute, \"분\")\n",
    "print(now.second,\"초\")"
   ]
  },
  {
   "cell_type": "code",
   "execution_count": 12,
   "id": "dd255ee7-675e-4b7e-bdc4-d2a8281e3398",
   "metadata": {},
   "outputs": [
    {
     "name": "stdout",
     "output_type": "stream",
     "text": [
      "현재 시각15시로 오후\n",
      "이번 달은1월로 겨울\n"
     ]
    }
   ],
   "source": [
    "import datetime\n",
    "now = datetime.datetime.now()\n",
    "\n",
    "if now.hour<12:\n",
    "    print(\"현재 시각{}시로 오전\".format(now.hour))\n",
    "\n",
    "if now.hour>=12:\n",
    "    print(\"현재 시각{}시로 오후\".format(now.hour))\n",
    "\n",
    "if 3<=now.month<=5:\n",
    "    print(\"이번 달은{}월로 봄\".format(now.month))\n",
    "\n",
    "if 6<=now.month<=8:\n",
    "    print(\"이번 달은{}월로 여름\".format(now.month))\n",
    "\n",
    "if 9<=now.month<=11:\n",
    "    print(\"이번 달은{}월로 가을\".format(now.month))\n",
    "\n",
    "if now.month==12 or 1<=now.month<=2:\n",
    "    print(\"이번 달은{}월로 겨울\".format(now.month))"
   ]
  },
  {
   "cell_type": "code",
   "execution_count": 24,
   "id": "4db22e21-4cee-4713-8217-3c2b9798bfba",
   "metadata": {},
   "outputs": [
    {
     "name": "stdout",
     "output_type": "stream",
     "text": [
      "홀수\n"
     ]
    }
   ],
   "source": [
    "last_number = 1\n",
    "\n",
    "if last_number == 0 \\\n",
    "    or last_number == 2 \\\n",
    "    or last_number == 4 \\\n",
    "    or last_number == 6 \\\n",
    "    or last_number == 8:\n",
    "    print(\"짝수\")\n",
    "\n",
    "if last_number == 1 \\\n",
    "    or last_number == 3 \\\n",
    "    or last_number == 5 \\\n",
    "    or last_number == 7 \\\n",
    "    or last_number == 9:\n",
    "    print(\"홀수\")"
   ]
  },
  {
   "cell_type": "code",
   "execution_count": 32,
   "id": "550e5b8e-bfbb-445c-9998-8676a7ed85a5",
   "metadata": {},
   "outputs": [
    {
     "name": "stdin",
     "output_type": "stream",
     "text": [
      "정수 입력> 0\n"
     ]
    },
    {
     "name": "stdout",
     "output_type": "stream",
     "text": [
      "짝수\n"
     ]
    }
   ],
   "source": [
    "number = input(\"정수 입력>\")\n",
    "last_character = number[-1]\n",
    "\n",
    "if last_character in \"02468\":\n",
    "    print(\"짝수\")\n",
    "\n",
    "if last_character in \"13579\":\n",
    "    print(\"홀수\")"
   ]
  },
  {
   "cell_type": "code",
   "execution_count": 27,
   "id": "12e685e3-11a7-4530-a9b9-e70640b10042",
   "metadata": {},
   "outputs": [
    {
     "name": "stdin",
     "output_type": "stream",
     "text": [
      "정수 입력> 2\n"
     ]
    },
    {
     "name": "stdout",
     "output_type": "stream",
     "text": [
      "짝수\n"
     ]
    }
   ],
   "source": [
    "number = input(\"정수 입력>\")\n",
    "number = int(number)\n",
    "\n",
    "if number %2 == 0:\n",
    "    print(\"짝수\")\n",
    "\n",
    "if number %2 == 1:\n",
    "    print(\"홀수\")"
   ]
  },
  {
   "cell_type": "code",
   "execution_count": 35,
   "id": "fcad529e-9089-4bb3-9f23-9c864b2bc169",
   "metadata": {},
   "outputs": [
    {
     "name": "stdin",
     "output_type": "stream",
     "text": [
      "정수 입력> 15869\n"
     ]
    },
    {
     "name": "stdout",
     "output_type": "stream",
     "text": [
      "홀수\n"
     ]
    }
   ],
   "source": [
    "number = input(\"정수 입력>\")\n",
    "number = int(number)\n",
    "\n",
    "if number %2 ==0:\n",
    "    print(\"짝수\")\n",
    "else:\n",
    "    print(\"홀수\")"
   ]
  },
  {
   "cell_type": "code",
   "execution_count": 36,
   "id": "ab7cf336-ce46-4cfe-a91b-5c7073ce02a3",
   "metadata": {},
   "outputs": [
    {
     "name": "stdout",
     "output_type": "stream",
     "text": [
      "현재는 겨울입니다.\n"
     ]
    }
   ],
   "source": [
    "import datetime\n",
    "\n",
    "now = datetime.datetime.now()\n",
    "month = now.month\n",
    "\n",
    "if 3<=month<=5:\n",
    "    print(\"현재는 봄입니다.\")\n",
    "elif 6<=month<=8:\n",
    "    print(\"현재는 여름입니다.\")\n",
    "elif 9<=month<=11:\n",
    "    print(\"현재는 가을입니다.\")\n",
    "else:\n",
    "    print(\"현재는 겨울입니다.\")"
   ]
  },
  {
   "cell_type": "code",
   "execution_count": 37,
   "id": "270cd180-e74d-44fb-a20d-7b7fdf5d7725",
   "metadata": {},
   "outputs": [
    {
     "name": "stdout",
     "output_type": "stream",
     "text": [
      "# if 조건문에 0 넣기\n",
      "0은 False로 변환됩니다.\n",
      "\n",
      "# if 조건문에 빈 문자열 넣기\n",
      "빈 문자열은 False로 변환됩니다.\n"
     ]
    }
   ],
   "source": [
    "print(\"# if 조건문에 0 넣기\")\n",
    "if 0:\n",
    "    print(\"0은 True로 변환됩니다.\")\n",
    "else:\n",
    "    print(\"0은 False로 변환됩니다.\")\n",
    "print()\n",
    "\n",
    "print(\"# if 조건문에 빈 문자열 넣기\")\n",
    "if \"\":\n",
    "    print(\"빈 문자열은 True로 변환됩니다.\")\n",
    "else:\n",
    "    print(\"빈 문자열은 False로 변환됩니다.\")"
   ]
  },
  {
   "cell_type": "code",
   "execution_count": 39,
   "id": "f36a53d5-f910-4eb8-8573-6696708ced65",
   "metadata": {},
   "outputs": [
    {
     "name": "stdin",
     "output_type": "stream",
     "text": [
      "정수 입력> 0\n"
     ]
    }
   ],
   "source": [
    "number = input(\"정수 입력>\")\n",
    "number = int(number)\n",
    "\n",
    "if number > 0:\n",
    "    pass\n",
    "else:\n",
    "    pass"
   ]
  },
  {
   "cell_type": "code",
   "execution_count": 40,
   "id": "c09e1921-4a99-40ff-ab34-2a7a40e7efb3",
   "metadata": {},
   "outputs": [
    {
     "name": "stdout",
     "output_type": "stream",
     "text": [
      "[123, 1586, 1036, '몰루', True, False]\n"
     ]
    }
   ],
   "source": [
    "array=[123,1586,1036,\"몰루\",True,False]\n",
    "print(array)"
   ]
  },
  {
   "cell_type": "code",
   "execution_count": 42,
   "id": "6dc099f9-051b-4eb1-839c-f86f22f6378b",
   "metadata": {},
   "outputs": [
    {
     "data": {
      "text/plain": [
       "[1586, 1036]"
      ]
     },
     "execution_count": 42,
     "metadata": {},
     "output_type": "execute_result"
    }
   ],
   "source": [
    "list_a=[123,1586,1036,\"몰루\",True,False]\n",
    "list_a[0]\n",
    "list_a[1]\n",
    "list_a[2]\n",
    "list_a[1:3]"
   ]
  },
  {
   "cell_type": "code",
   "execution_count": 45,
   "id": "5d40a4da-4bbc-46f2-bea7-c3d7606f74df",
   "metadata": {},
   "outputs": [
    {
     "data": {
      "text/plain": [
       "'몰루'"
      ]
     },
     "execution_count": 45,
     "metadata": {},
     "output_type": "execute_result"
    }
   ],
   "source": [
    "list_a=[123,1586,1036,\"몰루\",True,False]\n",
    "list_a[-1]\n",
    "list_a[-2]\n",
    "list_a[-3]"
   ]
  },
  {
   "cell_type": "code",
   "execution_count": 48,
   "id": "cc7e74d7-0d95-47b7-b119-97d13cba86d1",
   "metadata": {},
   "outputs": [
    {
     "data": {
      "text/plain": [
       "'몰'"
      ]
     },
     "execution_count": 48,
     "metadata": {},
     "output_type": "execute_result"
    }
   ],
   "source": [
    "list_a=[123,1586,1036,\"몰루\",True,False]\n",
    "list_a[3]\n",
    "list_a[3][0]"
   ]
  },
  {
   "cell_type": "code",
   "execution_count": 50,
   "id": "3399e3df-b1b3-49be-b390-04623883ddff",
   "metadata": {},
   "outputs": [
    {
     "data": {
      "text/plain": [
       "5"
      ]
     },
     "execution_count": 50,
     "metadata": {},
     "output_type": "execute_result"
    }
   ],
   "source": [
    "list_a=[[1,2,3],[4,5,6],[7,8,9]]\n",
    "list_a[1]\n",
    "list_a[1][1]"
   ]
  },
  {
   "cell_type": "code",
   "execution_count": 54,
   "id": "df50e36d-795b-4498-962f-5e0a5f5a11c8",
   "metadata": {},
   "outputs": [
    {
     "name": "stdout",
     "output_type": "stream",
     "text": [
      "#리스트\n",
      "lista= [1, 2, 3]\n",
      "listb= [4, 5, 6]\n",
      "\n",
      "#리스트 기본 연산자\n",
      "lista+listb= [1, 2, 3, 4, 5, 6]\n",
      "lista*3= [1, 2, 3, 1, 2, 3, 1, 2, 3]\n",
      "\n"
     ]
    },
    {
     "ename": "TypeError",
     "evalue": "can only concatenate list (not \"int\") to list",
     "output_type": "error",
     "traceback": [
      "\u001b[1;31m---------------------------------------------------------------------------\u001b[0m",
      "\u001b[1;31mTypeError\u001b[0m                                 Traceback (most recent call last)",
      "Cell \u001b[1;32mIn[54], line 13\u001b[0m\n\u001b[0;32m     11\u001b[0m \u001b[38;5;28mprint\u001b[39m(\u001b[38;5;124m\"\u001b[39m\u001b[38;5;124mlista*3=\u001b[39m\u001b[38;5;124m\"\u001b[39m,lista\u001b[38;5;241m*\u001b[39m\u001b[38;5;241m3\u001b[39m)\n\u001b[0;32m     12\u001b[0m \u001b[38;5;28mprint\u001b[39m()\n\u001b[1;32m---> 13\u001b[0m \u001b[38;5;28mprint\u001b[39m(\u001b[38;5;124m\"\u001b[39m\u001b[38;5;124mlista+3=\u001b[39m\u001b[38;5;124m\"\u001b[39m,\u001b[43mlista\u001b[49m\u001b[38;5;241;43m+\u001b[39;49m\u001b[38;5;241;43m3\u001b[39;49m)\n\u001b[0;32m     14\u001b[0m \u001b[38;5;28mprint\u001b[39m(\u001b[38;5;124m\"\u001b[39m\u001b[38;5;124m#길이 구하기\u001b[39m\u001b[38;5;124m\"\u001b[39m)\n\u001b[0;32m     15\u001b[0m \u001b[38;5;28mprint\u001b[39m(\u001b[38;5;124m\"\u001b[39m\u001b[38;5;124mlen(lista)=\u001b[39m\u001b[38;5;124m\"\u001b[39m, \u001b[38;5;28mlen\u001b[39m(lista))\n",
      "\u001b[1;31mTypeError\u001b[0m: can only concatenate list (not \"int\") to list"
     ]
    }
   ],
   "source": [
    "lista=[1,2,3]\n",
    "listb=[4,5,6]\n",
    "\n",
    "print(\"#리스트\")\n",
    "print(\"lista=\",lista)\n",
    "print(\"listb=\",listb)\n",
    "print()\n",
    "\n",
    "print(\"#리스트 기본 연산자\")\n",
    "print(\"lista+listb=\", lista+listb)\n",
    "print(\"lista*3=\",lista*3)\n",
    "print()\n",
    "print(\"lista+3=\",lista+3)\n",
    "print(\"#길이 구하기\")\n",
    "print(\"len(lista)=\", len(lista))"
   ]
  },
  {
   "cell_type": "code",
   "execution_count": 55,
   "id": "dea7aef6-1906-4259-a810-f811aee6c77c",
   "metadata": {},
   "outputs": [
    {
     "name": "stdout",
     "output_type": "stream",
     "text": [
      "#리스트 뒤에 요소 추가하기\n",
      "[1, 2, 3, 4, 5]\n",
      "\n",
      "중간 요소 추가\n",
      "[10, 1, 2, 3, 4, 5]\n"
     ]
    }
   ],
   "source": [
    "lista=[1,2,3]\n",
    "\n",
    "print(\"#리스트 뒤에 요소 추가하기\")\n",
    "lista.append(4)\n",
    "lista.append(5)\n",
    "print(lista)\n",
    "print()\n",
    "\n",
    "print(\"중간 요소 추가\")\n",
    "lista.insert(0,10)\n",
    "print(lista)"
   ]
  },
  {
   "cell_type": "code",
   "execution_count": 57,
   "id": "0a2ee130-d943-4e1c-9e75-b0896ff831f0",
   "metadata": {},
   "outputs": [
    {
     "name": "stdout",
     "output_type": "stream",
     "text": [
      "[1, 2, 3, 4, 5, 6]\n"
     ]
    }
   ],
   "source": [
    "lista=[1,2,3]\n",
    "lista.extend([4,5,6])\n",
    "print(lista)"
   ]
  },
  {
   "cell_type": "code",
   "execution_count": 59,
   "id": "8f8e704a-e285-4b7c-aeef-87de3f208995",
   "metadata": {},
   "outputs": [
    {
     "name": "stdout",
     "output_type": "stream",
     "text": [
      "#리스트의 요소 하나 제거\n",
      "[1, 3, 4, 5, 6]\n",
      "4\n",
      "[1, 3, 5, 6]\n"
     ]
    }
   ],
   "source": [
    "lista=[1,2,3,4,5,6]\n",
    "print(\"#리스트의 요소 하나 제거\")\n",
    "\n",
    "del lista[1]\n",
    "print(lista)\n",
    "\n",
    "\n",
    "print(lista.pop(2))\n",
    "print(lista)"
   ]
  },
  {
   "cell_type": "code",
   "execution_count": 60,
   "id": "1e44fbae-561c-4d7f-91cc-e93ff49cc0d6",
   "metadata": {},
   "outputs": [
    {
     "data": {
      "text/plain": [
       "[1, 1, 2]"
      ]
     },
     "execution_count": 60,
     "metadata": {},
     "output_type": "execute_result"
    }
   ],
   "source": [
    "lista=[1,2,1,2]\n",
    "lista.remove(2)\n",
    "lista"
   ]
  },
  {
   "cell_type": "code",
   "execution_count": 64,
   "id": "eb5514c0-4bb3-4032-9a6f-dd35fd2ac131",
   "metadata": {},
   "outputs": [
    {
     "data": {
      "text/plain": [
       "True"
      ]
     },
     "execution_count": 64,
     "metadata": {},
     "output_type": "execute_result"
    }
   ],
   "source": [
    "lista=[1,2,3,4,5,6,7]\n",
    "1 in lista\n",
    "23 in lista\n",
    "234 in lista\n",
    "7 in lista"
   ]
  },
  {
   "cell_type": "code",
   "execution_count": 65,
   "id": "0aa00de3-dcc5-493a-af78-7ac506e7729b",
   "metadata": {
    "scrolled": true
   },
   "outputs": [
    {
     "data": {
      "text/plain": [
       "False"
      ]
     },
     "execution_count": 65,
     "metadata": {},
     "output_type": "execute_result"
    }
   ],
   "source": [
    "lista=[1,2,3,4,5,6,7]\n",
    "1 not in lista\n",
    "23 not in lista\n",
    "234 not in lista\n",
    "7 not in lista"
   ]
  },
  {
   "cell_type": "code",
   "execution_count": null,
   "id": "a91804ec-8b56-40f8-b482-9d64ba2ade71",
   "metadata": {},
   "outputs": [],
   "source": []
  }
 ],
 "metadata": {
  "kernelspec": {
   "display_name": "Python 3 (ipykernel)",
   "language": "python",
   "name": "python3"
  },
  "language_info": {
   "codemirror_mode": {
    "name": "ipython",
    "version": 3
   },
   "file_extension": ".py",
   "mimetype": "text/x-python",
   "name": "python",
   "nbconvert_exporter": "python",
   "pygments_lexer": "ipython3",
   "version": "3.9.18"
  }
 },
 "nbformat": 4,
 "nbformat_minor": 5
}
