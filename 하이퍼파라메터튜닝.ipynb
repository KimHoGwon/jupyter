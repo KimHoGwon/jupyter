{
 "cells": [
  {
   "cell_type": "code",
   "execution_count": null,
   "id": "4851d065-f9b7-4736-8dcd-74314c09b0a0",
   "metadata": {},
   "outputs": [],
   "source": [
    "from sklearn.model)selection import GridSearchCV"
   ]
  }
 ],
 "metadata": {
  "kernelspec": {
   "display_name": "Python 3 (ipykernel)",
   "language": "python",
   "name": "python3"
  },
  "language_info": {
   "codemirror_mode": {
    "name": "ipython",
    "version": 3
   },
   "file_extension": ".py",
   "mimetype": "text/x-python",
   "name": "python",
   "nbconvert_exporter": "python",
   "pygments_lexer": "ipython3",
   "version": "3.9.18"
  }
 },
 "nbformat": 4,
 "nbformat_minor": 5
}
